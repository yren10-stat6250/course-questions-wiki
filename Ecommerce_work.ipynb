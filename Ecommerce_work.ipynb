{
  "nbformat": 4,
  "nbformat_minor": 0,
  "metadata": {
    "colab": {
      "name": "work.ipynb",
      "version": "0.3.2",
      "provenance": [],
      "include_colab_link": true
    },
    "language_info": {
      "codemirror_mode": {
        "name": "ipython",
        "version": 2
      },
      "file_extension": ".py",
      "mimetype": "text/x-python",
      "name": "python",
      "nbconvert_exporter": "python",
      "pygments_lexer": "ipython2",
      "version": "2.7.13"
    },
    "kernelspec": {
      "display_name": "Python 2",
      "language": "python",
      "name": "python2"
    }
  },
  "cells": [
    {
      "cell_type": "markdown",
      "metadata": {
        "id": "view-in-github",
        "colab_type": "text"
      },
      "source": [
        "<a href=\"https://colab.research.google.com/github/yren10-stat6250/course-questions-wiki/blob/master/Ecommerce_work.ipynb\" target=\"_parent\"><img src=\"https://colab.research.google.com/assets/colab-badge.svg\" alt=\"Open In Colab\"/></a>"
      ]
    },
    {
      "cell_type": "markdown",
      "metadata": {
        "id": "IASzUIkU5Xtl",
        "colab_type": "text"
      },
      "source": [
        "# Pre Load packages \n"
      ]
    },
    {
      "cell_type": "code",
      "metadata": {
        "collapsed": true,
        "id": "pWJbp36d5Xtn",
        "colab_type": "code",
        "colab": {}
      },
      "source": [
        "# load packages\n",
        "%matplotlib inline\n",
        "import numpy as np\n",
        "import scipy\n",
        "import pandas as pd\n",
        "import matplotlib.pyplot as plt\n",
        "import statsmodels.formula.api as sm\n",
        "import seaborn as sns\n",
        "import sklearn as sl\n",
        "from sklearn import preprocessing\n",
        "pd.set_option('display.float_format', lambda x: '%.3f' % x)"
      ],
      "execution_count": 0,
      "outputs": []
    },
    {
      "cell_type": "markdown",
      "metadata": {
        "id": "Lz8gbd2J5Xtt",
        "colab_type": "text"
      },
      "source": [
        "# Pre Load data \n",
        "\n",
        "'Video_id' is defined as the index of each sample. 'cvt_per_day' is the metric, the rest of 14 columns are all characteristic features (numeric & categorical) of each video."
      ]
    },
    {
      "cell_type": "code",
      "metadata": {
        "id": "Hr3HvMWv5Xtu",
        "colab_type": "code",
        "colab": {},
        "outputId": "6986e7e1-eaaa-4fcf-e468-39130dbec43a"
      },
      "source": [
        "TV = pd.read_table('TVdata.txt', sep = ',', header=0, lineterminator = '\\n')\n",
        "TV.head()"
      ],
      "execution_count": 0,
      "outputs": [
        {
          "output_type": "execute_result",
          "data": {
            "text/html": [
              "<div>\n",
              "<style>\n",
              "    .dataframe thead tr:only-child th {\n",
              "        text-align: right;\n",
              "    }\n",
              "\n",
              "    .dataframe thead th {\n",
              "        text-align: left;\n",
              "    }\n",
              "\n",
              "    .dataframe tbody tr th {\n",
              "        vertical-align: top;\n",
              "    }\n",
              "</style>\n",
              "<table border=\"1\" class=\"dataframe\">\n",
              "  <thead>\n",
              "    <tr style=\"text-align: right;\">\n",
              "      <th></th>\n",
              "      <th>video_id</th>\n",
              "      <th>cvt_per_day</th>\n",
              "      <th>weighted_categorical_position</th>\n",
              "      <th>weighted_horizontal_poition</th>\n",
              "      <th>import_id</th>\n",
              "      <th>release_year</th>\n",
              "      <th>genres</th>\n",
              "      <th>imdb_votes</th>\n",
              "      <th>budget</th>\n",
              "      <th>boxoffice</th>\n",
              "      <th>imdb_rating</th>\n",
              "      <th>duration_in_mins</th>\n",
              "      <th>metacritic_score</th>\n",
              "      <th>awards</th>\n",
              "      <th>mpaa</th>\n",
              "      <th>star_category</th>\n",
              "    </tr>\n",
              "  </thead>\n",
              "  <tbody>\n",
              "    <tr>\n",
              "      <th>0</th>\n",
              "      <td>385504</td>\n",
              "      <td>307127.606</td>\n",
              "      <td>1</td>\n",
              "      <td>3</td>\n",
              "      <td>lionsgate</td>\n",
              "      <td>2013</td>\n",
              "      <td>Action,Thriller,Drama</td>\n",
              "      <td>69614</td>\n",
              "      <td>15000000</td>\n",
              "      <td>42930462</td>\n",
              "      <td>6.500</td>\n",
              "      <td>112.301</td>\n",
              "      <td>51</td>\n",
              "      <td>other award</td>\n",
              "      <td>PG-13</td>\n",
              "      <td>1.710</td>\n",
              "    </tr>\n",
              "    <tr>\n",
              "      <th>1</th>\n",
              "      <td>300175</td>\n",
              "      <td>270338.426</td>\n",
              "      <td>1</td>\n",
              "      <td>3</td>\n",
              "      <td>lionsgate</td>\n",
              "      <td>2013</td>\n",
              "      <td>Comedy,Crime,Thriller</td>\n",
              "      <td>46705</td>\n",
              "      <td>15000000</td>\n",
              "      <td>3301046</td>\n",
              "      <td>6.500</td>\n",
              "      <td>94.983</td>\n",
              "      <td>41</td>\n",
              "      <td>no award</td>\n",
              "      <td>R</td>\n",
              "      <td>3.250</td>\n",
              "    </tr>\n",
              "    <tr>\n",
              "      <th>2</th>\n",
              "      <td>361899</td>\n",
              "      <td>256165.867</td>\n",
              "      <td>1</td>\n",
              "      <td>3</td>\n",
              "      <td>other</td>\n",
              "      <td>2012</td>\n",
              "      <td>Crime,Drama</td>\n",
              "      <td>197596</td>\n",
              "      <td>26000000</td>\n",
              "      <td>37397291</td>\n",
              "      <td>7.300</td>\n",
              "      <td>115.764</td>\n",
              "      <td>58</td>\n",
              "      <td>other award</td>\n",
              "      <td>R</td>\n",
              "      <td>2.647</td>\n",
              "    </tr>\n",
              "    <tr>\n",
              "      <th>3</th>\n",
              "      <td>308314</td>\n",
              "      <td>196622.721</td>\n",
              "      <td>3</td>\n",
              "      <td>4</td>\n",
              "      <td>lionsgate</td>\n",
              "      <td>2008</td>\n",
              "      <td>Thriller,Drama,War,Documentary,Mystery,Action</td>\n",
              "      <td>356339</td>\n",
              "      <td>15000000</td>\n",
              "      <td>15700000</td>\n",
              "      <td>7.600</td>\n",
              "      <td>130.704</td>\n",
              "      <td>94</td>\n",
              "      <td>Oscar</td>\n",
              "      <td>R</td>\n",
              "      <td>1.667</td>\n",
              "    </tr>\n",
              "    <tr>\n",
              "      <th>4</th>\n",
              "      <td>307201</td>\n",
              "      <td>159841.652</td>\n",
              "      <td>1</td>\n",
              "      <td>3</td>\n",
              "      <td>lionsgate</td>\n",
              "      <td>2013</td>\n",
              "      <td>Crime,Thriller,Mystery,Documentary</td>\n",
              "      <td>46720</td>\n",
              "      <td>27220000</td>\n",
              "      <td>8551228</td>\n",
              "      <td>6.400</td>\n",
              "      <td>105.546</td>\n",
              "      <td>37</td>\n",
              "      <td>other award</td>\n",
              "      <td>R</td>\n",
              "      <td>3.067</td>\n",
              "    </tr>\n",
              "  </tbody>\n",
              "</table>\n",
              "</div>"
            ],
            "text/plain": [
              "   video_id  cvt_per_day  weighted_categorical_position  \\\n",
              "0    385504   307127.606                              1   \n",
              "1    300175   270338.426                              1   \n",
              "2    361899   256165.867                              1   \n",
              "3    308314   196622.721                              3   \n",
              "4    307201   159841.652                              1   \n",
              "\n",
              "   weighted_horizontal_poition  import_id  release_year  \\\n",
              "0                            3  lionsgate          2013   \n",
              "1                            3  lionsgate          2013   \n",
              "2                            3      other          2012   \n",
              "3                            4  lionsgate          2008   \n",
              "4                            3  lionsgate          2013   \n",
              "\n",
              "                                          genres  imdb_votes    budget  \\\n",
              "0                          Action,Thriller,Drama       69614  15000000   \n",
              "1                          Comedy,Crime,Thriller       46705  15000000   \n",
              "2                                    Crime,Drama      197596  26000000   \n",
              "3  Thriller,Drama,War,Documentary,Mystery,Action      356339  15000000   \n",
              "4             Crime,Thriller,Mystery,Documentary       46720  27220000   \n",
              "\n",
              "   boxoffice  imdb_rating  duration_in_mins  metacritic_score       awards  \\\n",
              "0   42930462        6.500           112.301                51  other award   \n",
              "1    3301046        6.500            94.983                41     no award   \n",
              "2   37397291        7.300           115.764                58  other award   \n",
              "3   15700000        7.600           130.704                94        Oscar   \n",
              "4    8551228        6.400           105.546                37  other award   \n",
              "\n",
              "    mpaa  star_category  \n",
              "0  PG-13          1.710  \n",
              "1      R          3.250  \n",
              "2      R          2.647  \n",
              "3      R          1.667  \n",
              "4      R          3.067  "
            ]
          },
          "metadata": {
            "tags": []
          },
          "execution_count": 2
        }
      ]
    },
    {
      "cell_type": "code",
      "metadata": {
        "id": "cfXgsgxJ5Xt0",
        "colab_type": "code",
        "colab": {},
        "outputId": "2d43fb9f-16db-4606-fb26-edb4c9638d67"
      },
      "source": [
        "print 'Number of rows: ' + str(TV.shape[0])\n",
        "print 'Number of columns: ' + str(TV.shape[1])"
      ],
      "execution_count": 0,
      "outputs": [
        {
          "output_type": "stream",
          "text": [
            "Number of rows: 4226\n",
            "Number of columns: 16\n"
          ],
          "name": "stdout"
        }
      ]
    },
    {
      "cell_type": "markdown",
      "metadata": {
        "id": "C5qiFVoS5Xt5",
        "colab_type": "text"
      },
      "source": [
        "\n",
        "# 1 : Data Exploration\n",
        "\n",
        "## 1.1 Exclude erroneous data \n",
        "Each video should only appear once in the list, duplicated video will be removed."
      ]
    },
    {
      "cell_type": "code",
      "metadata": {
        "id": "6sQOC_2q5XuE",
        "colab_type": "code",
        "colab": {},
        "outputId": "473e7831-f41f-49da-a01c-2dfcbe7fb7c8"
      },
      "source": [
        "# check duplicated entry\n",
        "if len(TV.set_index('video_id').index.get_duplicates()) == 0:\n",
        "    print 'There is no duplicated entry (video_id based).'\n",
        "    \n"
      ],
      "execution_count": 0,
      "outputs": [
        {
          "output_type": "stream",
          "text": [
            "There is no duplicated entry (video_id based).\n"
          ],
          "name": "stdout"
        }
      ]
    },
    {
      "cell_type": "markdown",
      "metadata": {
        "id": "VH7Jg6X-5XuH",
        "colab_type": "text"
      },
      "source": [
        "## 1.2 Understand the numerical features\n",
        "### 1.2.1 Overview \n",
        "Note: video_id, release_year are not numerical features although they are represented by numbers."
      ]
    },
    {
      "cell_type": "code",
      "metadata": {
        "id": "mhDwpaIa5XuI",
        "colab_type": "code",
        "colab": {},
        "outputId": "52bc1b5b-faab-422f-abf1-5f826e1c1633"
      },
      "source": [
        "print TV.drop(['video_id', 'release_year'],axis=1).describe(percentiles = [.1, .25, .5, .75, .95])\n",
        "print((TV == 0).sum())\n",
        "print TV.dtypes"
      ],
      "execution_count": 0,
      "outputs": [
        {
          "output_type": "stream",
          "text": [
            "       cvt_per_day  weighted_categorical_position  \\\n",
            "count     4226.000                       4226.000   \n",
            "mean      4218.630                          7.783   \n",
            "std      13036.080                          6.134   \n",
            "min          2.188                          1.000   \n",
            "10%        141.985                          3.000   \n",
            "25%        351.169                          4.000   \n",
            "50%       1193.500                          6.000   \n",
            "75%       3356.789                          9.000   \n",
            "95%      14692.834                         22.000   \n",
            "max     307127.606                         41.000   \n",
            "\n",
            "       weighted_horizontal_poition  imdb_votes        budget     boxoffice  \\\n",
            "count                     4226.000    4226.000      4226.000      4226.000   \n",
            "mean                        28.104    6462.924   2150743.439   2536338.472   \n",
            "std                         11.864   31596.007   7176604.483   8243516.266   \n",
            "min                          1.000       0.000         0.000         0.000   \n",
            "10%                         13.000       8.000         0.000         0.000   \n",
            "25%                         20.000      81.000         0.000         0.000   \n",
            "50%                         28.000     535.000         0.000         0.000   \n",
            "75%                         36.000    3053.000   1500000.000         0.000   \n",
            "95%                         48.000   26199.500  12000000.000   8551228.000   \n",
            "max                         70.000  948630.000 107000000.000 184208848.000   \n",
            "\n",
            "       imdb_rating  duration_in_mins  metacritic_score  star_category  \n",
            "count     4226.000          4226.000          4226.000       4226.000  \n",
            "mean         5.257            89.556            15.974          0.955  \n",
            "std          2.123            21.086            26.205          0.955  \n",
            "min          0.000             4.037             0.000          0.000  \n",
            "10%          2.300            62.391             0.000          0.000  \n",
            "25%          4.300            82.602             0.000          0.000  \n",
            "50%          5.800            90.730             0.000          1.000  \n",
            "75%          6.800            99.500            41.000          1.667  \n",
            "95%          7.800           119.131            65.000          2.597  \n",
            "max         10.000           246.017           100.000          4.000  \n",
            "video_id                            0\n",
            "cvt_per_day                         0\n",
            "weighted_categorical_position       0\n",
            "weighted_horizontal_poition         0\n",
            "import_id                           0\n",
            "release_year                        0\n",
            "genres                              0\n",
            "imdb_votes                        344\n",
            "budget                           2454\n",
            "boxoffice                        3194\n",
            "imdb_rating                       344\n",
            "duration_in_mins                    0\n",
            "metacritic_score                 3012\n",
            "awards                              0\n",
            "mpaa                                0\n",
            "star_category                    1846\n",
            "dtype: int64\n",
            "video_id                           int64\n",
            "cvt_per_day                      float64\n",
            "weighted_categorical_position      int64\n",
            "weighted_horizontal_poition        int64\n",
            "import_id                         object\n",
            "release_year                       int64\n",
            "genres                            object\n",
            "imdb_votes                         int64\n",
            "budget                             int64\n",
            "boxoffice                          int64\n",
            "imdb_rating                      float64\n",
            "duration_in_mins                 float64\n",
            "metacritic_score                   int64\n",
            "awards                            object\n",
            "mpaa                              object\n",
            "star_category                    float64\n",
            "dtype: object\n"
          ],
          "name": "stdout"
        }
      ]
    },
    {
      "cell_type": "markdown",
      "metadata": {
        "id": "igfnVG5U5XuO",
        "colab_type": "text"
      },
      "source": [
        "Among the 10 numerical features (not include video_id and release_year), 4 features have over 25% of missing data: budget, boxoffice, metacritic_score, star_category. 2 features have less than 10% of missing data: imdb_votes, imdb_rating."
      ]
    },
    {
      "cell_type": "markdown",
      "metadata": {
        "id": "jTUhVDjU5XuP",
        "colab_type": "text"
      },
      "source": [
        "###  1.2.2 cvt_per_day feature "
      ]
    },
    {
      "cell_type": "code",
      "metadata": {
        "id": "mfV8BDD85XuQ",
        "colab_type": "code",
        "colab": {},
        "outputId": "c1bce197-5e34-45d4-a25c-836bfe174c8a"
      },
      "source": [
        "# cvt_per_day data explore\n",
        "plt.hist(TV['cvt_per_day'].values, bins = range(0,15000, 30), alpha = 0.5, color='r', label = 'cvt_per_day', normed = True)\n",
        "plt.legend(loc ='upper right')\n",
        "plt.title('Historgrams of cvt_per_day before data processing')\n",
        "plt.xlabel('cvt_per_day')\n",
        "plt.ylabel('density')\n",
        "plt.show()\n",
        "\n",
        "# log scale of y due to large variation\n",
        "plt.hist(TV['cvt_per_day'].values, log = True, bins = range(0,15000, 30), alpha = 0.5, color='g', label = 'cvt_per_day_log_scale', normed = True)\n",
        "plt.legend(loc ='upper right')\n",
        "plt.title('Historgrams of cvt_per_day before data processing')\n",
        "plt.xlabel('cvt_per_day_log_scale')\n",
        "plt.ylabel('density')\n",
        "plt.show()"
      ],
      "execution_count": 0,
      "outputs": [
        {
          "output_type": "display_data",
          "data": {
            "image/png": "[encoded data removed]",
            "text/plain": [
              "<matplotlib.figure.Figure at 0x1a12935790>"
            ]
          },
          "metadata": {
            "tags": []
          }
        },
        {
          "output_type": "display_data",
          "data": {
            "image/png": "[encoded data removed]",
            "text/plain": [
              "<matplotlib.figure.Figure at 0x1a12775090>"
            ]
          },
          "metadata": {
            "tags": []
          }
        }
      ]
    },
    {
      "cell_type": "markdown",
      "metadata": {
        "id": "cEzvyD8Z5XuW",
        "colab_type": "text"
      },
      "source": [
        "### 1.2.3 Correlation among numerical features"
      ]
    },
    {
      "cell_type": "code",
      "metadata": {
        "id": "5Mr4wmd85XuX",
        "colab_type": "code",
        "colab": {},
        "outputId": "976d36bf-49d7-4a27-8de0-c98b360fb47a"
      },
      "source": [
        "# correlation of the numerical features \n",
        "corr = TV[['cvt_per_day','weighted_categorical_position','weighted_horizontal_poition'\n",
        "               ,'release_year', 'imdb_votes', 'budget', 'boxoffice' ,'imdb_rating', \n",
        "               'duration_in_mins', 'metacritic_score', 'star_category']].corr()\n",
        "\n",
        "sns.heatmap(corr, cmap=\"YlGnBu\")"
      ],
      "execution_count": 0,
      "outputs": [
        {
          "output_type": "execute_result",
          "data": {
            "text/plain": [
              "<matplotlib.axes._subplots.AxesSubplot at 0x1a12089190>"
            ]
          },
          "metadata": {
            "tags": []
          },
          "execution_count": 7
        },
        {
          "output_type": "display_data",
          "data": {
            "image/png": "[encoded data removed]",
            "text/plain": [
              "<matplotlib.figure.Figure at 0x1a12070990>"
            ]
          },
          "metadata": {
            "tags": []
          }
        }
      ]
    },
    {
      "cell_type": "code",
      "metadata": {
        "id": "4seUszBq5Xub",
        "colab_type": "code",
        "colab": {},
        "outputId": "dfb9f183-5aab-4fe7-cb44-37d250d333df"
      },
      "source": [
        "corr"
      ],
      "execution_count": 0,
      "outputs": [
        {
          "output_type": "execute_result",
          "data": {
            "text/html": [
              "<div>\n",
              "<style>\n",
              "    .dataframe thead tr:only-child th {\n",
              "        text-align: right;\n",
              "    }\n",
              "\n",
              "    .dataframe thead th {\n",
              "        text-align: left;\n",
              "    }\n",
              "\n",
              "    .dataframe tbody tr th {\n",
              "        vertical-align: top;\n",
              "    }\n",
              "</style>\n",
              "<table border=\"1\" class=\"dataframe\">\n",
              "  <thead>\n",
              "    <tr style=\"text-align: right;\">\n",
              "      <th></th>\n",
              "      <th>cvt_per_day</th>\n",
              "      <th>weighted_categorical_position</th>\n",
              "      <th>weighted_horizontal_poition</th>\n",
              "      <th>release_year</th>\n",
              "      <th>imdb_votes</th>\n",
              "      <th>budget</th>\n",
              "      <th>boxoffice</th>\n",
              "      <th>imdb_rating</th>\n",
              "      <th>duration_in_mins</th>\n",
              "      <th>metacritic_score</th>\n",
              "      <th>star_category</th>\n",
              "    </tr>\n",
              "  </thead>\n",
              "  <tbody>\n",
              "    <tr>\n",
              "      <th>cvt_per_day</th>\n",
              "      <td>1.000</td>\n",
              "      <td>-0.148</td>\n",
              "      <td>-0.302</td>\n",
              "      <td>0.046</td>\n",
              "      <td>0.298</td>\n",
              "      <td>0.316</td>\n",
              "      <td>0.312</td>\n",
              "      <td>0.059</td>\n",
              "      <td>0.152</td>\n",
              "      <td>0.249</td>\n",
              "      <td>0.247</td>\n",
              "    </tr>\n",
              "    <tr>\n",
              "      <th>weighted_categorical_position</th>\n",
              "      <td>-0.148</td>\n",
              "      <td>1.000</td>\n",
              "      <td>-0.084</td>\n",
              "      <td>-0.069</td>\n",
              "      <td>-0.064</td>\n",
              "      <td>-0.090</td>\n",
              "      <td>-0.074</td>\n",
              "      <td>-0.116</td>\n",
              "      <td>-0.174</td>\n",
              "      <td>-0.044</td>\n",
              "      <td>-0.123</td>\n",
              "    </tr>\n",
              "    <tr>\n",
              "      <th>weighted_horizontal_poition</th>\n",
              "      <td>-0.302</td>\n",
              "      <td>-0.084</td>\n",
              "      <td>1.000</td>\n",
              "      <td>0.027</td>\n",
              "      <td>-0.221</td>\n",
              "      <td>-0.211</td>\n",
              "      <td>-0.245</td>\n",
              "      <td>-0.162</td>\n",
              "      <td>-0.102</td>\n",
              "      <td>-0.255</td>\n",
              "      <td>-0.168</td>\n",
              "    </tr>\n",
              "    <tr>\n",
              "      <th>release_year</th>\n",
              "      <td>0.046</td>\n",
              "      <td>-0.069</td>\n",
              "      <td>0.027</td>\n",
              "      <td>1.000</td>\n",
              "      <td>-0.083</td>\n",
              "      <td>-0.040</td>\n",
              "      <td>-0.128</td>\n",
              "      <td>-0.199</td>\n",
              "      <td>-0.097</td>\n",
              "      <td>-0.167</td>\n",
              "      <td>-0.198</td>\n",
              "    </tr>\n",
              "    <tr>\n",
              "      <th>imdb_votes</th>\n",
              "      <td>0.298</td>\n",
              "      <td>-0.064</td>\n",
              "      <td>-0.221</td>\n",
              "      <td>-0.083</td>\n",
              "      <td>1.000</td>\n",
              "      <td>0.273</td>\n",
              "      <td>0.531</td>\n",
              "      <td>0.163</td>\n",
              "      <td>0.156</td>\n",
              "      <td>0.322</td>\n",
              "      <td>0.225</td>\n",
              "    </tr>\n",
              "    <tr>\n",
              "      <th>budget</th>\n",
              "      <td>0.316</td>\n",
              "      <td>-0.090</td>\n",
              "      <td>-0.211</td>\n",
              "      <td>-0.040</td>\n",
              "      <td>0.273</td>\n",
              "      <td>1.000</td>\n",
              "      <td>0.505</td>\n",
              "      <td>0.106</td>\n",
              "      <td>0.251</td>\n",
              "      <td>0.315</td>\n",
              "      <td>0.322</td>\n",
              "    </tr>\n",
              "    <tr>\n",
              "      <th>boxoffice</th>\n",
              "      <td>0.312</td>\n",
              "      <td>-0.074</td>\n",
              "      <td>-0.245</td>\n",
              "      <td>-0.128</td>\n",
              "      <td>0.531</td>\n",
              "      <td>0.505</td>\n",
              "      <td>1.000</td>\n",
              "      <td>0.164</td>\n",
              "      <td>0.226</td>\n",
              "      <td>0.465</td>\n",
              "      <td>0.322</td>\n",
              "    </tr>\n",
              "    <tr>\n",
              "      <th>imdb_rating</th>\n",
              "      <td>0.059</td>\n",
              "      <td>-0.116</td>\n",
              "      <td>-0.162</td>\n",
              "      <td>-0.199</td>\n",
              "      <td>0.163</td>\n",
              "      <td>0.106</td>\n",
              "      <td>0.164</td>\n",
              "      <td>1.000</td>\n",
              "      <td>0.344</td>\n",
              "      <td>0.347</td>\n",
              "      <td>0.192</td>\n",
              "    </tr>\n",
              "    <tr>\n",
              "      <th>duration_in_mins</th>\n",
              "      <td>0.152</td>\n",
              "      <td>-0.174</td>\n",
              "      <td>-0.102</td>\n",
              "      <td>-0.097</td>\n",
              "      <td>0.156</td>\n",
              "      <td>0.251</td>\n",
              "      <td>0.226</td>\n",
              "      <td>0.344</td>\n",
              "      <td>1.000</td>\n",
              "      <td>0.327</td>\n",
              "      <td>0.309</td>\n",
              "    </tr>\n",
              "    <tr>\n",
              "      <th>metacritic_score</th>\n",
              "      <td>0.249</td>\n",
              "      <td>-0.044</td>\n",
              "      <td>-0.255</td>\n",
              "      <td>-0.167</td>\n",
              "      <td>0.322</td>\n",
              "      <td>0.315</td>\n",
              "      <td>0.465</td>\n",
              "      <td>0.347</td>\n",
              "      <td>0.327</td>\n",
              "      <td>1.000</td>\n",
              "      <td>0.452</td>\n",
              "    </tr>\n",
              "    <tr>\n",
              "      <th>star_category</th>\n",
              "      <td>0.247</td>\n",
              "      <td>-0.123</td>\n",
              "      <td>-0.168</td>\n",
              "      <td>-0.198</td>\n",
              "      <td>0.225</td>\n",
              "      <td>0.322</td>\n",
              "      <td>0.322</td>\n",
              "      <td>0.192</td>\n",
              "      <td>0.309</td>\n",
              "      <td>0.452</td>\n",
              "      <td>1.000</td>\n",
              "    </tr>\n",
              "  </tbody>\n",
              "</table>\n",
              "</div>"
            ],
            "text/plain": [
              "                               cvt_per_day  weighted_categorical_position  \\\n",
              "cvt_per_day                          1.000                         -0.148   \n",
              "weighted_categorical_position       -0.148                          1.000   \n",
              "weighted_horizontal_poition         -0.302                         -0.084   \n",
              "release_year                         0.046                         -0.069   \n",
              "imdb_votes                           0.298                         -0.064   \n",
              "budget                               0.316                         -0.090   \n",
              "boxoffice                            0.312                         -0.074   \n",
              "imdb_rating                          0.059                         -0.116   \n",
              "duration_in_mins                     0.152                         -0.174   \n",
              "metacritic_score                     0.249                         -0.044   \n",
              "star_category                        0.247                         -0.123   \n",
              "\n",
              "                               weighted_horizontal_poition  release_year  \\\n",
              "cvt_per_day                                         -0.302         0.046   \n",
              "weighted_categorical_position                       -0.084        -0.069   \n",
              "weighted_horizontal_poition                          1.000         0.027   \n",
              "release_year                                         0.027         1.000   \n",
              "imdb_votes                                          -0.221        -0.083   \n",
              "budget                                              -0.211        -0.040   \n",
              "boxoffice                                           -0.245        -0.128   \n",
              "imdb_rating                                         -0.162        -0.199   \n",
              "duration_in_mins                                    -0.102        -0.097   \n",
              "metacritic_score                                    -0.255        -0.167   \n",
              "star_category                                       -0.168        -0.198   \n",
              "\n",
              "                               imdb_votes  budget  boxoffice  imdb_rating  \\\n",
              "cvt_per_day                         0.298   0.316      0.312        0.059   \n",
              "weighted_categorical_position      -0.064  -0.090     -0.074       -0.116   \n",
              "weighted_horizontal_poition        -0.221  -0.211     -0.245       -0.162   \n",
              "release_year                       -0.083  -0.040     -0.128       -0.199   \n",
              "imdb_votes                          1.000   0.273      0.531        0.163   \n",
              "budget                              0.273   1.000      0.505        0.106   \n",
              "boxoffice                           0.531   0.505      1.000        0.164   \n",
              "imdb_rating                         0.163   0.106      0.164        1.000   \n",
              "duration_in_mins                    0.156   0.251      0.226        0.344   \n",
              "metacritic_score                    0.322   0.315      0.465        0.347   \n",
              "star_category                       0.225   0.322      0.322        0.192   \n",
              "\n",
              "                               duration_in_mins  metacritic_score  \\\n",
              "cvt_per_day                               0.152             0.249   \n",
              "weighted_categorical_position            -0.174            -0.044   \n",
              "weighted_horizontal_poition              -0.102            -0.255   \n",
              "release_year                             -0.097            -0.167   \n",
              "imdb_votes                                0.156             0.322   \n",
              "budget                                    0.251             0.315   \n",
              "boxoffice                                 0.226             0.465   \n",
              "imdb_rating                               0.344             0.347   \n",
              "duration_in_mins                          1.000             0.327   \n",
              "metacritic_score                          0.327             1.000   \n",
              "star_category                             0.309             0.452   \n",
              "\n",
              "                               star_category  \n",
              "cvt_per_day                            0.247  \n",
              "weighted_categorical_position         -0.123  \n",
              "weighted_horizontal_poition           -0.168  \n",
              "release_year                          -0.198  \n",
              "imdb_votes                             0.225  \n",
              "budget                                 0.322  \n",
              "boxoffice                              0.322  \n",
              "imdb_rating                            0.192  \n",
              "duration_in_mins                       0.309  \n",
              "metacritic_score                       0.452  \n",
              "star_category                          1.000  "
            ]
          },
          "metadata": {
            "tags": []
          },
          "execution_count": 8
        }
      ]
    },
    {
      "cell_type": "markdown",
      "metadata": {
        "id": "EilmmFhM5Xuf",
        "colab_type": "text"
      },
      "source": [
        "## 1.3 Understand the categorical features¶ \n",
        "### 1.3.1 simple categorical features (import_id, mpaa, awards)"
      ]
    },
    {
      "cell_type": "code",
      "metadata": {
        "id": "_Of2n1gQ5Xug",
        "colab_type": "code",
        "colab": {},
        "outputId": "f1bc0d8c-45ae-4896-f4f6-1163d00a92be"
      },
      "source": [
        "sns.stripplot(x='import_id', y='cvt_per_day', data=TV, jitter=True)\n",
        "plt.show()\n",
        "print TV['import_id'].value_counts().reset_index()\n",
        "\n",
        "sns.stripplot(x='mpaa', y='cvt_per_day', data=TV, jitter=True)\n",
        "plt.show()\n",
        "print TV['mpaa'].value_counts().reset_index()\n",
        "\n",
        "sns.stripplot(x='awards', y='cvt_per_day', data=TV, jitter=True)\n",
        "plt.show()\n",
        "print TV['awards'].value_counts().reset_index()"
      ],
      "execution_count": 0,
      "outputs": [
        {
          "output_type": "display_data",
          "data": {
            "image/png": "[encoded data removed]",
            "text/plain": [
              "<matplotlib.figure.Figure at 0x1a1baf7890>"
            ]
          },
          "metadata": {
            "tags": []
          }
        },
        {
          "output_type": "stream",
          "text": [
            "       index  import_id\n",
            "0      other       2963\n",
            "1  lionsgate        677\n",
            "2        mgm        445\n",
            "3  paramount        141\n"
          ],
          "name": "stdout"
        },
        {
          "output_type": "display_data",
          "data": {
            "image/png": "[encoded data removed]",
            "text/plain": [
              "<matplotlib.figure.Figure at 0x1a1b4b2890>"
            ]
          },
          "metadata": {
            "tags": []
          }
        },
        {
          "output_type": "stream",
          "text": [
            "      index  mpaa\n",
            "0  NotRated  2158\n",
            "1         R  1158\n",
            "2     PG-13   426\n",
            "3        PG   353\n",
            "4         G   125\n",
            "5     NC-17     6\n"
          ],
          "name": "stdout"
        },
        {
          "output_type": "display_data",
          "data": {
            "image/png": "[encoded data removed]",
            "text/plain": [
              "<matplotlib.figure.Figure at 0x1a1bac4050>"
            ]
          },
          "metadata": {
            "tags": []
          }
        },
        {
          "output_type": "stream",
          "text": [
            "          index  awards\n",
            "0      no award    2569\n",
            "1   other award    1453\n",
            "2         Oscar     141\n",
            "3  Golden Globe      44\n",
            "4         BAFTA      19\n"
          ],
          "name": "stdout"
        }
      ]
    },
    {
      "cell_type": "markdown",
      "metadata": {
        "id": "Gzl6iUXH5Xum",
        "colab_type": "text"
      },
      "source": [
        "### 1.3.2 Distribution of splited genres\n",
        "Some videos belongs to more than 1 genre, the genre of each video is splited, this would help emphasize the effect of each individual genre."
      ]
    },
    {
      "cell_type": "code",
      "metadata": {
        "id": "7tLKvi5j5Xun",
        "colab_type": "code",
        "colab": {},
        "outputId": "c6fe0f27-75b8-41d4-a45d-648326682419"
      },
      "source": [
        "# generes explore, split the genre of each video\n",
        "gen_split = TV['genres'].str.get_dummies(sep=',').sum()\n",
        "gen_split.sort_values(ascending=False).plot.bar()"
      ],
      "execution_count": 0,
      "outputs": [
        {
          "output_type": "execute_result",
          "data": {
            "text/plain": [
              "<matplotlib.axes._subplots.AxesSubplot at 0x1a1b859910>"
            ]
          },
          "metadata": {
            "tags": []
          },
          "execution_count": 10
        },
        {
          "output_type": "display_data",
          "data": {
            "image/png": "[encoded data removed]",
            "text/plain": [
              "<matplotlib.figure.Figure at 0x1a1b859dd0>"
            ]
          },
          "metadata": {
            "tags": []
          }
        }
      ]
    },
    {
      "cell_type": "markdown",
      "metadata": {
        "id": "k9tEZKB95Xut",
        "colab_type": "text"
      },
      "source": [
        "6 genres including Anime, Reality, Lifestyle, Adult, LGBT, Holiday have low frequencies. Therefore, during feature processing, they will be grouped together as: 'Misc_gen' in the feature 'genres'."
      ]
    },
    {
      "cell_type": "markdown",
      "metadata": {
        "id": "pVSFc70e5Xuv",
        "colab_type": "text"
      },
      "source": [
        "### 1.3.3 Distribution of release_year\n",
        "The release year of video varies through a wide range. Considering the popularity of a video usually decays over time, the release_year should be bucketed based on the release_year range. "
      ]
    },
    {
      "cell_type": "code",
      "metadata": {
        "id": "Pq8OV6k45Xux",
        "colab_type": "code",
        "colab": {},
        "outputId": "502890c7-a6c4-47c5-b218-e6ade74452c8"
      },
      "source": [
        "plt.figure(1)\n",
        "plt.hist(TV['release_year'].values, bins = range(1910, 2017, 1), alpha = 0.5, color='r', label = 'release_year', normed = True)\n",
        "plt.legend(loc ='upper left')\n",
        "plt.title('Historgrams of release_year before data processing')\n",
        "plt.xlabel('release_year')\n",
        "plt.ylabel('density')\n",
        "plt.show()\n",
        "\n",
        "print TV['release_year'].describe(percentiles = [.1, .2, .3, .4,.5, .6, .7, .8, .9])"
      ],
      "execution_count": 0,
      "outputs": [
        {
          "output_type": "display_data",
          "data": {
            "image/png": "[encoded data removed]",
            "text/plain": [
              "<matplotlib.figure.Figure at 0x1a1b769a90>"
            ]
          },
          "metadata": {
            "tags": []
          }
        },
        {
          "output_type": "stream",
          "text": [
            "count   4226.000\n",
            "mean    2001.057\n",
            "std       17.497\n",
            "min     1916.000\n",
            "10%     1974.000\n",
            "20%     1991.000\n",
            "30%     2001.000\n",
            "40%     2006.000\n",
            "50%     2008.000\n",
            "60%     2010.000\n",
            "70%     2012.000\n",
            "80%     2013.000\n",
            "90%     2014.000\n",
            "max     2017.000\n",
            "Name: release_year, dtype: float64\n"
          ],
          "name": "stdout"
        }
      ]
    },
    {
      "cell_type": "markdown",
      "metadata": {
        "id": "HLfhb8dj5XvG",
        "colab_type": "text"
      },
      "source": [
        "# Part 2: Feature Preprocessing"
      ]
    },
    {
      "cell_type": "markdown",
      "metadata": {
        "id": "lEZAuW0g5XvJ",
        "colab_type": "text"
      },
      "source": [
        "## 2.1 Categorical features\n",
        "There are 5 categorical features: import_id, mpaa, awards, genres, and release_year. There is no missing data in them. They can be converted into dummy/indicators.\n",
        "\n",
        "The first 3 have relatively small sub-types, they can be easily converted to dummies.\n",
        "\n",
        "The 'genres' have 27 different sub-types, 6 of them are rarely observed (refer to previous section). It's reasonable to group these 6 into 1. Note: a video may have more than one genre, in the feature preprocessing, all genres are handled individually.\n",
        "\n",
        "The release_year is bined into 10 buckets based on the year range between 1917 and 2017."
      ]
    },
    {
      "cell_type": "code",
      "metadata": {
        "collapsed": true,
        "id": "2h5SI58H5XvL",
        "colab_type": "code",
        "colab": {}
      },
      "source": [
        "# Convert 3 Categorical variables into dummy variables\n",
        "d_import_id = pd.get_dummies(TV['import_id']).astype(np.int64)\n",
        "d_mpaa = pd.get_dummies(TV['mpaa']).astype(np.int64)\n",
        "d_awards = pd.get_dummies(TV['awards']).astype(np.int64)"
      ],
      "execution_count": 0,
      "outputs": []
    },
    {
      "cell_type": "code",
      "metadata": {
        "collapsed": true,
        "id": "s7hAQWxD5XvQ",
        "colab_type": "code",
        "colab": {}
      },
      "source": [
        "# Convert 'genres' into dummy variables\n",
        "d_genres = pd.DataFrame() \n",
        "for genre in ['Action', 'Adult', 'Adventure', 'Animation', 'Anime', 'Comedy', 'Crime', 'Documentary', 'Drama'\n",
        "          , 'Fantasy', 'Foreign/International', 'Holiday', 'Horror', 'Independent', 'Kids & Family', 'LGBT', \n",
        "          'Lifestyle', 'Music', 'Musicals','Mystery', 'Reality', 'Romance','Sci-Fi', 'Sport', 'Thriller', 'War', \n",
        "          'Western']:\n",
        "    gen_lst = []\n",
        "    for i in range(4226):        \n",
        "        if genre in TV['genres'][i]:\n",
        "            gen_lst.append(1)    \n",
        "        else: \n",
        "            gen_lst.append(0)  \n",
        "    d_genres[genre] = pd.Series(gen_lst).values\n",
        "    \n",
        "# combine 6 smallest genres into a new genre 'Misc_gen'. Use bitwise operation '|', then drop these 6 columns.\n",
        "d_genres['Misc_gen'] = d_genres['Anime']|d_genres['Reality']|d_genres['Lifestyle']|d_genres['Adult']|d_genres['LGBT']|d_genres['Holiday']\n",
        "d_genres.drop(['Anime', 'Reality','Lifestyle', 'Adult','LGBT','Holiday'], inplace=True, axis=1)"
      ],
      "execution_count": 0,
      "outputs": []
    },
    {
      "cell_type": "code",
      "metadata": {
        "collapsed": true,
        "id": "w6KXqRNF5XvV",
        "colab_type": "code",
        "colab": {}
      },
      "source": [
        "# bin release_year and convert into dummies\n",
        "bin_year = [1916, 1974, 1991, 2001, 2006, 2008, 2010, 2012, 2013, 2014,2017]\n",
        "year_range = ['1916-1974', '1974-1991', '1991-2001', '2001-2006','2006-2008','2008-2010','2010-2012','2012-2013',\n",
        "              '2013-2014','2014-2017']\n",
        "year_bin = pd.cut(TV['release_year'], bin_year, labels=year_range)\n",
        "d_year = pd.get_dummies(year_bin).astype(np.int64)"
      ],
      "execution_count": 0,
      "outputs": []
    },
    {
      "cell_type": "code",
      "metadata": {
        "scrolled": true,
        "id": "m8ai8IzQ5XvZ",
        "colab_type": "code",
        "colab": {},
        "outputId": "89a7d8e6-fe25-4b22-ffa0-cb6cf9aa21ae"
      },
      "source": [
        "# new dataframe, drop the previous categorical features, add new dummy variables, check for null\n",
        "TV_temp = TV.drop(['import_id', 'mpaa','awards','genres', 'release_year'], axis=1)\n",
        "newTV = pd.concat([TV_temp, d_import_id, d_mpaa, d_awards, d_genres, d_year], axis=1)\n",
        "print newTV.shape\n",
        "print pd.isnull(newTV).any(1).nonzero()[0]\n",
        "print newTV.head()\n",
        "newTV_0 = newTV.copy() # a copy of newTV"
      ],
      "execution_count": 0,
      "outputs": [
        {
          "output_type": "stream",
          "text": [
            "(4226, 58)\n",
            "[]\n",
            "   video_id  cvt_per_day  weighted_categorical_position  \\\n",
            "0    385504   307127.606                              1   \n",
            "1    300175   270338.426                              1   \n",
            "2    361899   256165.867                              1   \n",
            "3    308314   196622.721                              3   \n",
            "4    307201   159841.652                              1   \n",
            "\n",
            "   weighted_horizontal_poition  imdb_votes    budget  boxoffice  imdb_rating  \\\n",
            "0                            3       69614  15000000   42930462        6.500   \n",
            "1                            3       46705  15000000    3301046        6.500   \n",
            "2                            3      197596  26000000   37397291        7.300   \n",
            "3                            4      356339  15000000   15700000        7.600   \n",
            "4                            3       46720  27220000    8551228        6.400   \n",
            "\n",
            "   duration_in_mins  metacritic_score    ...      1916-1974  1974-1991  \\\n",
            "0           112.301                51    ...              0          0   \n",
            "1            94.983                41    ...              0          0   \n",
            "2           115.764                58    ...              0          0   \n",
            "3           130.704                94    ...              0          0   \n",
            "4           105.546                37    ...              0          0   \n",
            "\n",
            "   1991-2001  2001-2006  2006-2008  2008-2010  2010-2012  2012-2013  \\\n",
            "0          0          0          0          0          0          1   \n",
            "1          0          0          0          0          0          1   \n",
            "2          0          0          0          0          1          0   \n",
            "3          0          0          1          0          0          0   \n",
            "4          0          0          0          0          0          1   \n",
            "\n",
            "   2013-2014  2014-2017  \n",
            "0          0          0  \n",
            "1          0          0  \n",
            "2          0          0  \n",
            "3          0          0  \n",
            "4          0          0  \n",
            "\n",
            "[5 rows x 58 columns]\n"
          ],
          "name": "stdout"
        }
      ]
    },
    {
      "cell_type": "code",
      "metadata": {
        "id": "kqAncDTB5Xvf",
        "colab_type": "code",
        "colab": {},
        "outputId": "00658654-6c95-45fd-eded-f211efe9ca11"
      },
      "source": [
        ""
      ],
      "execution_count": 0,
      "outputs": [
        {
          "output_type": "error",
          "ename": "NameError",
          "evalue": "name 'TV_temp' is not defined",
          "traceback": [
            "\u001b[0;31m---------------------------------------------------------------------------\u001b[0m",
            "\u001b[0;31mNameError\u001b[0m                                 Traceback (most recent call last)",
            "\u001b[0;32m<ipython-input-7-911b2832a528>\u001b[0m in \u001b[0;36m<module>\u001b[0;34m()\u001b[0m\n\u001b[0;32m----> 1\u001b[0;31m \u001b[0mTV_temp\u001b[0m\u001b[0;34m.\u001b[0m\u001b[0mdtypes\u001b[0m\u001b[0;34m(\u001b[0m\u001b[0;34m)\u001b[0m\u001b[0;34m\u001b[0m\u001b[0m\n\u001b[0m",
            "\u001b[0;31mNameError\u001b[0m: name 'TV_temp' is not defined"
          ]
        }
      ]
    },
    {
      "cell_type": "markdown",
      "metadata": {
        "id": "a4SZ_LtR5Xvj",
        "colab_type": "text"
      },
      "source": [
        "Feature space holds 4226 observations and 58 features in total.\n",
        "\n",
        "There is NO null data. newTV_0 is kepted as the raw dataframe before any further feature processing, e.g. replace 0 with null, missing data fill etc. "
      ]
    },
    {
      "cell_type": "markdown",
      "metadata": {
        "id": "embwfWfv5Xvk",
        "colab_type": "text"
      },
      "source": [
        "## 2.2 Handling of missing data \n",
        "Among the 10 numerical features (not include video_id), 4 features have over 25% of missing values (shown as '0', which is not possible in reality): budget, boxoffice, metacritic_score, star_category. 2 features have less than 10% of missing data: imdb_votes, imdb_rating.\n",
        "\n",
        "There are 3242 samples have at least one missing data."
      ]
    },
    {
      "cell_type": "code",
      "metadata": {
        "id": "p27pvLWZ5Xvk",
        "colab_type": "code",
        "colab": {},
        "outputId": "99a4db4d-e8da-4773-9d66-71b05ba492f8"
      },
      "source": [
        "# mark zero values as NaN\n",
        "newTV[['budget','boxoffice','metacritic_score', 'star_category','imdb_votes', 'imdb_rating']] = newTV[['budget','boxoffice','metacritic_score', 'star_category','imdb_votes', 'imdb_rating']].replace(0, np.nan)\n",
        "\n",
        "# count the number of NaN values in each column\n",
        "print newTV.isnull().sum()\n",
        "\n",
        "#count the number videos who have at least one missing data \n",
        "print 'videos having at least one null: ', newTV.isnull().any(axis=1).sum()"
      ],
      "execution_count": 0,
      "outputs": [
        {
          "output_type": "stream",
          "text": [
            "video_id                            0\n",
            "cvt_per_day                         0\n",
            "weighted_categorical_position       0\n",
            "weighted_horizontal_poition         0\n",
            "imdb_votes                        344\n",
            "budget                           2454\n",
            "boxoffice                        3194\n",
            "imdb_rating                       344\n",
            "duration_in_mins                    0\n",
            "metacritic_score                 3012\n",
            "star_category                    1846\n",
            "lionsgate                           0\n",
            "mgm                                 0\n",
            "other                               0\n",
            "paramount                           0\n",
            "G                                   0\n",
            "NC-17                               0\n",
            "NotRated                            0\n",
            "PG                                  0\n",
            "PG-13                               0\n",
            "R                                   0\n",
            "BAFTA                               0\n",
            "Golden Globe                        0\n",
            "Oscar                               0\n",
            "no award                            0\n",
            "other award                         0\n",
            "Action                              0\n",
            "Adventure                           0\n",
            "Animation                           0\n",
            "Comedy                              0\n",
            "Crime                               0\n",
            "Documentary                         0\n",
            "Drama                               0\n",
            "Fantasy                             0\n",
            "Foreign/International               0\n",
            "Horror                              0\n",
            "Independent                         0\n",
            "Kids & Family                       0\n",
            "Music                               0\n",
            "Musicals                            0\n",
            "Mystery                             0\n",
            "Romance                             0\n",
            "Sci-Fi                              0\n",
            "Sport                               0\n",
            "Thriller                            0\n",
            "War                                 0\n",
            "Western                             0\n",
            "Misc_gen                            0\n",
            "1916-1974                           0\n",
            "1974-1991                           0\n",
            "1991-2001                           0\n",
            "2001-2006                           0\n",
            "2006-2008                           0\n",
            "2008-2010                           0\n",
            "2010-2012                           0\n",
            "2012-2013                           0\n",
            "2013-2014                           0\n",
            "2014-2017                           0\n",
            "dtype: int64\n",
            "videos having at least one null:  3242\n"
          ],
          "name": "stdout"
        }
      ]
    },
    {
      "cell_type": "markdown",
      "metadata": {
        "id": "cje_3fRk5Xvo",
        "colab_type": "text"
      },
      "source": [
        "### 2.2.1 Filling missing data with mean value\n",
        "For imdb_voates and imdb_rating, they always show 'null' together, which is reasonable, since when a imdb_votes is missing, the imdb_rating is mostly also missing. For all 6 features with missiong data, the 1st attempt is to fill in with their mean value."
      ]
    },
    {
      "cell_type": "code",
      "metadata": {
        "collapsed": true,
        "id": "L7giCJji5Xvp",
        "colab_type": "code",
        "colab": {}
      },
      "source": [
        "# fill missing values with the column mean\n",
        "newTV_i1 = newTV.copy()\n",
        "newTV_i1['budget'].fillna(newTV_i1['budget'].mean(), inplace=True)\n",
        "newTV_i1['boxoffice'].fillna(newTV_i1['boxoffice'].mean(), inplace=True)\n",
        "newTV_i1['metacritic_score'].fillna(newTV_i1['metacritic_score'].mean(), inplace=True)\n",
        "newTV_i1['star_category'].fillna(newTV_i1['star_category'].mean(), inplace=True)\n",
        "newTV_i1['imdb_votes'].fillna(newTV_i1['imdb_votes'].mean(), inplace=True)\n",
        "newTV_i1['imdb_rating'].fillna(newTV_i1['imdb_rating'].mean(), inplace=True)"
      ],
      "execution_count": 0,
      "outputs": []
    },
    {
      "cell_type": "markdown",
      "metadata": {
        "id": "v6QhVF1V5Xvs",
        "colab_type": "text"
      },
      "source": [
        "newTV_i1 have the feature processing as: fill the missing data in budget, boxoffice, metacritic_score, star_category, imdb_votes, imdb_rating with mean. It will be tested in the upcoming models. "
      ]
    },
    {
      "cell_type": "markdown",
      "metadata": {
        "id": "WkmK-plv5Xvt",
        "colab_type": "text"
      },
      "source": [
        "## 2.3 Feature scaling\n",
        "The impact of different scaling methods on the model performance is small. In the following model training and selections, the standard scaling (sc) data is used. "
      ]
    },
    {
      "cell_type": "code",
      "metadata": {
        "id": "jtEE-wfI5Xvt",
        "colab_type": "code",
        "colab": {},
        "outputId": "df9aabbe-fdb2-4e6d-962a-e20d6fd4108c"
      },
      "source": [
        "#Standard scaling\n",
        "scale_lst = ['weighted_categorical_position', 'weighted_horizontal_poition', 'budget','boxoffice', \n",
        "             'imdb_votes','imdb_rating','duration_in_mins', 'metacritic_score','star_category']\n",
        "newTV_sc = newTV_i1.copy()\n",
        "\n",
        "sc_scale = preprocessing.StandardScaler().fit(newTV_sc[scale_lst])\n",
        "newTV_sc[scale_lst] = sc_scale.transform(newTV_sc[scale_lst])\n",
        "\n",
        "newTV_sc.head()"
      ],
      "execution_count": 0,
      "outputs": [
        {
          "output_type": "execute_result",
          "data": {
            "text/html": [
              "<div>\n",
              "<style>\n",
              "    .dataframe thead tr:only-child th {\n",
              "        text-align: right;\n",
              "    }\n",
              "\n",
              "    .dataframe thead th {\n",
              "        text-align: left;\n",
              "    }\n",
              "\n",
              "    .dataframe tbody tr th {\n",
              "        vertical-align: top;\n",
              "    }\n",
              "</style>\n",
              "<table border=\"1\" class=\"dataframe\">\n",
              "  <thead>\n",
              "    <tr style=\"text-align: right;\">\n",
              "      <th></th>\n",
              "      <th>video_id</th>\n",
              "      <th>cvt_per_day</th>\n",
              "      <th>weighted_categorical_position</th>\n",
              "      <th>weighted_horizontal_poition</th>\n",
              "      <th>imdb_votes</th>\n",
              "      <th>budget</th>\n",
              "      <th>boxoffice</th>\n",
              "      <th>imdb_rating</th>\n",
              "      <th>duration_in_mins</th>\n",
              "      <th>metacritic_score</th>\n",
              "      <th>...</th>\n",
              "      <th>1916-1974</th>\n",
              "      <th>1974-1991</th>\n",
              "      <th>1991-2001</th>\n",
              "      <th>2001-2006</th>\n",
              "      <th>2006-2008</th>\n",
              "      <th>2008-2010</th>\n",
              "      <th>2010-2012</th>\n",
              "      <th>2012-2013</th>\n",
              "      <th>2013-2014</th>\n",
              "      <th>2014-2017</th>\n",
              "    </tr>\n",
              "  </thead>\n",
              "  <tbody>\n",
              "    <tr>\n",
              "      <th>0</th>\n",
              "      <td>385504</td>\n",
              "      <td>307127.606</td>\n",
              "      <td>-1.106</td>\n",
              "      <td>-2.116</td>\n",
              "      <td>1.984</td>\n",
              "      <td>1.470</td>\n",
              "      <td>4.696</td>\n",
              "      <td>0.542</td>\n",
              "      <td>1.079</td>\n",
              "      <td>-0.630</td>\n",
              "      <td>...</td>\n",
              "      <td>0</td>\n",
              "      <td>0</td>\n",
              "      <td>0</td>\n",
              "      <td>0</td>\n",
              "      <td>0</td>\n",
              "      <td>0</td>\n",
              "      <td>0</td>\n",
              "      <td>1</td>\n",
              "      <td>0</td>\n",
              "      <td>0</td>\n",
              "    </tr>\n",
              "    <tr>\n",
              "      <th>1</th>\n",
              "      <td>300175</td>\n",
              "      <td>270338.426</td>\n",
              "      <td>-1.106</td>\n",
              "      <td>-2.116</td>\n",
              "      <td>1.258</td>\n",
              "      <td>1.470</td>\n",
              "      <td>-1.022</td>\n",
              "      <td>0.542</td>\n",
              "      <td>0.257</td>\n",
              "      <td>-1.997</td>\n",
              "      <td>...</td>\n",
              "      <td>0</td>\n",
              "      <td>0</td>\n",
              "      <td>0</td>\n",
              "      <td>0</td>\n",
              "      <td>0</td>\n",
              "      <td>0</td>\n",
              "      <td>0</td>\n",
              "      <td>1</td>\n",
              "      <td>0</td>\n",
              "      <td>0</td>\n",
              "    </tr>\n",
              "    <tr>\n",
              "      <th>2</th>\n",
              "      <td>361899</td>\n",
              "      <td>256165.867</td>\n",
              "      <td>-1.106</td>\n",
              "      <td>-2.116</td>\n",
              "      <td>6.043</td>\n",
              "      <td>3.108</td>\n",
              "      <td>3.898</td>\n",
              "      <td>1.100</td>\n",
              "      <td>1.243</td>\n",
              "      <td>0.327</td>\n",
              "      <td>...</td>\n",
              "      <td>0</td>\n",
              "      <td>0</td>\n",
              "      <td>0</td>\n",
              "      <td>0</td>\n",
              "      <td>0</td>\n",
              "      <td>0</td>\n",
              "      <td>1</td>\n",
              "      <td>0</td>\n",
              "      <td>0</td>\n",
              "      <td>0</td>\n",
              "    </tr>\n",
              "    <tr>\n",
              "      <th>3</th>\n",
              "      <td>308314</td>\n",
              "      <td>196622.721</td>\n",
              "      <td>-0.780</td>\n",
              "      <td>-2.032</td>\n",
              "      <td>11.077</td>\n",
              "      <td>1.470</td>\n",
              "      <td>0.767</td>\n",
              "      <td>1.309</td>\n",
              "      <td>1.952</td>\n",
              "      <td>5.250</td>\n",
              "      <td>...</td>\n",
              "      <td>0</td>\n",
              "      <td>0</td>\n",
              "      <td>0</td>\n",
              "      <td>0</td>\n",
              "      <td>1</td>\n",
              "      <td>0</td>\n",
              "      <td>0</td>\n",
              "      <td>0</td>\n",
              "      <td>0</td>\n",
              "      <td>0</td>\n",
              "    </tr>\n",
              "    <tr>\n",
              "      <th>4</th>\n",
              "      <td>307201</td>\n",
              "      <td>159841.652</td>\n",
              "      <td>-1.106</td>\n",
              "      <td>-2.116</td>\n",
              "      <td>1.258</td>\n",
              "      <td>3.290</td>\n",
              "      <td>-0.265</td>\n",
              "      <td>0.472</td>\n",
              "      <td>0.758</td>\n",
              "      <td>-2.544</td>\n",
              "      <td>...</td>\n",
              "      <td>0</td>\n",
              "      <td>0</td>\n",
              "      <td>0</td>\n",
              "      <td>0</td>\n",
              "      <td>0</td>\n",
              "      <td>0</td>\n",
              "      <td>0</td>\n",
              "      <td>1</td>\n",
              "      <td>0</td>\n",
              "      <td>0</td>\n",
              "    </tr>\n",
              "  </tbody>\n",
              "</table>\n",
              "<p>5 rows × 58 columns</p>\n",
              "</div>"
            ],
            "text/plain": [
              "   video_id  cvt_per_day  weighted_categorical_position  \\\n",
              "0    385504   307127.606                         -1.106   \n",
              "1    300175   270338.426                         -1.106   \n",
              "2    361899   256165.867                         -1.106   \n",
              "3    308314   196622.721                         -0.780   \n",
              "4    307201   159841.652                         -1.106   \n",
              "\n",
              "   weighted_horizontal_poition  imdb_votes  budget  boxoffice  imdb_rating  \\\n",
              "0                       -2.116       1.984   1.470      4.696        0.542   \n",
              "1                       -2.116       1.258   1.470     -1.022        0.542   \n",
              "2                       -2.116       6.043   3.108      3.898        1.100   \n",
              "3                       -2.032      11.077   1.470      0.767        1.309   \n",
              "4                       -2.116       1.258   3.290     -0.265        0.472   \n",
              "\n",
              "   duration_in_mins  metacritic_score    ...      1916-1974  1974-1991  \\\n",
              "0             1.079            -0.630    ...              0          0   \n",
              "1             0.257            -1.997    ...              0          0   \n",
              "2             1.243             0.327    ...              0          0   \n",
              "3             1.952             5.250    ...              0          0   \n",
              "4             0.758            -2.544    ...              0          0   \n",
              "\n",
              "   1991-2001  2001-2006  2006-2008  2008-2010  2010-2012  2012-2013  \\\n",
              "0          0          0          0          0          0          1   \n",
              "1          0          0          0          0          0          1   \n",
              "2          0          0          0          0          1          0   \n",
              "3          0          0          1          0          0          0   \n",
              "4          0          0          0          0          0          1   \n",
              "\n",
              "   2013-2014  2014-2017  \n",
              "0          0          0  \n",
              "1          0          0  \n",
              "2          0          0  \n",
              "3          0          0  \n",
              "4          0          0  \n",
              "\n",
              "[5 rows x 58 columns]"
            ]
          },
          "metadata": {
            "tags": []
          },
          "execution_count": 505
        }
      ]
    },
    {
      "cell_type": "code",
      "metadata": {
        "collapsed": true,
        "id": "dIHaOAVs5Xvx",
        "colab_type": "code",
        "colab": {}
      },
      "source": [
        "# MinMax scaling\n",
        "newTV_mm = newTV_i1.copy()\n",
        "mm_scale = preprocessing.MinMaxScaler().fit(newTV_mm[scale_lst])\n",
        "newTV_mm[scale_lst] = mm_scale.transform(newTV_mm[scale_lst])"
      ],
      "execution_count": 0,
      "outputs": []
    },
    {
      "cell_type": "code",
      "metadata": {
        "collapsed": true,
        "id": "nGmKrn0E5Xv1",
        "colab_type": "code",
        "colab": {}
      },
      "source": [
        "# Robust scaling\n",
        "newTV_rs = newTV_i1.copy()\n",
        "rs_scale = preprocessing.RobustScaler().fit(newTV_mm[scale_lst])\n",
        "newTV_rs[scale_lst] = rs_scale.transform(newTV_rs[scale_lst])"
      ],
      "execution_count": 0,
      "outputs": []
    },
    {
      "cell_type": "markdown",
      "metadata": {
        "id": "uiMDL4rC5Xv3",
        "colab_type": "text"
      },
      "source": [
        "# Part 3: Model Training \n",
        "\n",
        "85% of the samples will be used to train all the models, and 15% is reserved for test the models in next section."
      ]
    },
    {
      "cell_type": "code",
      "metadata": {
        "collapsed": true,
        "id": "1agq83jc5Xv5",
        "colab_type": "code",
        "colab": {}
      },
      "source": [
        "# The 15% test data will kept aside, they won't be seen by the models until final test/comparison.\n",
        "\n",
        "model_train, model_test = train_test_split(newTV_sc, test_size=0.15, random_state = 3)\n",
        "model_train_x = model_train.drop(['video_id', 'cvt_per_day'], axis = 1)\n",
        "model_test_x = model_test.drop(['video_id', 'cvt_per_day'], axis = 1)\n",
        "model_train_y = model_train['cvt_per_day']\n",
        "model_test_y = model_test['cvt_per_day']"
      ],
      "execution_count": 0,
      "outputs": []
    },
    {
      "cell_type": "markdown",
      "metadata": {
        "id": "CRTJjiBd5Xv7",
        "colab_type": "text"
      },
      "source": [
        "## 3.1 Linear models"
      ]
    },
    {
      "cell_type": "markdown",
      "metadata": {
        "id": "iGXzbi2a5Xv8",
        "colab_type": "text"
      },
      "source": [
        "###  3.1.1 Lasso linear regression\n",
        "#### 1) All featuers are linear"
      ]
    },
    {
      "cell_type": "code",
      "metadata": {
        "id": "4zDJ3Yhi5Xv9",
        "colab_type": "code",
        "colab": {},
        "outputId": "51564560-2606-414f-edee-6e99efb6d9c0"
      },
      "source": [
        "from sklearn.model_selection import train_test_split\n",
        "from sklearn.linear_model import LinearRegression, Lasso, Ridge\n",
        "from sklearn.metrics import mean_squared_error, r2_score\n",
        "from math import sqrt\n",
        "\n",
        "lr_train, lr_validate = train_test_split(model_train, test_size=0.15, random_state = 0)\n",
        "\n",
        "lr_train_x = lr_train.drop(['video_id', 'cvt_per_day'], axis = 1)\n",
        "lr_validate_x = lr_validate.drop(['video_id', 'cvt_per_day'], axis = 1)\n",
        "lr_train_y = lr_train['cvt_per_day']\n",
        "lr_validate_y = lr_validate['cvt_per_day']\n",
        "\n",
        "alphas = np.logspace (-0.3, 2.5, num=150)\n",
        "# alphas= [0.000000001]\n",
        "scores = np.empty_like(alphas)\n",
        "opt_a = float('-inf')\n",
        "max_score = float('-inf')\n",
        "for i, a in enumerate(alphas):\n",
        "    lasso = linear_model.Lasso()\n",
        "    lasso.set_params(alpha = a)\n",
        "    lasso.fit(lr_train_x, lr_train_y)\n",
        "    scores[i] = lasso.score(lr_validate_x, lr_validate_y)\n",
        "    if scores[i] > max_score:\n",
        "        max_score = scores[i]\n",
        "        opt_a = a\n",
        "        lasso_save = lasso\n",
        "plt.plot(alphas, scores, color='b', linestyle='dashed', marker='o',markerfacecolor='blue', markersize=6)\n",
        "plt.xlabel('alpha')\n",
        "plt.ylabel('score')\n",
        "plt.grid(True)\n",
        "plt.title('score vs. alpha')\n",
        "plt.show()\n",
        "print 'The optimaized alpha and score of Lasso linear is: ', opt_a, max_score"
      ],
      "execution_count": 0,
      "outputs": [
        {
          "output_type": "display_data",
          "data": {
            "image/png": "[encoded data removed]",
            "text/plain": [
              "<matplotlib.figure.Figure at 0x1a20022450>"
            ]
          },
          "metadata": {
            "tags": []
          }
        },
        {
          "output_type": "stream",
          "text": [
            "The optimaized alpha and score of Lasso linear is:  122.061072389 0.36457853303\n"
          ],
          "name": "stdout"
        }
      ]
    },
    {
      "cell_type": "code",
      "metadata": {
        "id": "vLTTMbkB5XwA",
        "colab_type": "code",
        "colab": {},
        "outputId": "1568ff8d-2aa7-4b11-cd65-90734e700f79"
      },
      "source": [
        "# combine the validate data and training data, use the optimal alpha, re-train the model\n",
        "lasso_f = linear_model.Lasso()\n",
        "lasso_f.set_params(alpha = opt_a)\n",
        "lasso_f.fit(model_train_x, model_train_y)\n",
        "\n",
        "# lasso_f is the Lasso model (linear feature), to be tested with final test data."
      ],
      "execution_count": 0,
      "outputs": [
        {
          "output_type": "execute_result",
          "data": {
            "text/plain": [
              "Lasso(alpha=14.384498882876629, copy_X=True, fit_intercept=True,\n",
              "   max_iter=1000, normalize=False, positive=False, precompute=False,\n",
              "   random_state=None, selection='cyclic', tol=0.0001, warm_start=False)"
            ]
          },
          "metadata": {
            "tags": []
          },
          "execution_count": 561
        }
      ]
    },
    {
      "cell_type": "markdown",
      "metadata": {
        "id": "km6b_66q5XwE",
        "colab_type": "text"
      },
      "source": [
        "#### 2) Ploynomial features"
      ]
    },
    {
      "cell_type": "code",
      "metadata": {
        "id": "6KWRqApo5XwG",
        "colab_type": "code",
        "colab": {},
        "outputId": "330c6f18-01b5-487d-8e92-fa1f5b59350c"
      },
      "source": [
        "from sklearn.preprocessing import PolynomialFeatures\n",
        "\n",
        "poly = PolynomialFeatures(2)\n",
        "\n",
        "lr_train, lr_validate = train_test_split(model_train, test_size=0.15, random_state = 0)\n",
        "\n",
        "lr_train_x = lr_train.drop(['video_id', 'cvt_per_day'], axis = 1)\n",
        "lr_validate_x = lr_validate.drop(['video_id', 'cvt_per_day'], axis = 1)\n",
        "\n",
        "lr_train_xp = poly.fit_transform(lr_train_x)\n",
        "lr_validate_xp = poly.fit_transform(lr_validate_x)\n",
        "lr_train_y = lr_train['cvt_per_day']\n",
        "lr_validate_y = lr_validate['cvt_per_day']\n",
        "\n",
        "# lr_train_xp = pd.DataFrame(data=lr_train_xp, index=data[:], columns=data[0,1:]) \n",
        "\n",
        "alphas = np.logspace (-2.6, 2.5, num=80)\n",
        "# alphas= [1]\n",
        "scores = np.empty_like(alphas)\n",
        "opt_a = float('-inf')\n",
        "max_score = float('-inf')\n",
        "for i, a in enumerate(alphas):\n",
        "    lasso = linear_model.Lasso()\n",
        "    lasso.set_params(alpha = a)\n",
        "    lasso.fit(lr_train_xp, lr_train_y)\n",
        "    scores[i] = lasso.score(lr_validate_xp, lr_validate_y)\n",
        "    if scores[i] > max_score:\n",
        "        max_score = scores[i]\n",
        "        opt_a = a\n",
        "        lasso_save = lasso\n",
        "        \n",
        "plt.plot(alphas, scores, color='b', linestyle='dashed', marker='o',markerfacecolor='blue', markersize=6)\n",
        "plt.xlabel('alpha')\n",
        "plt.ylabel('score')\n",
        "plt.grid(True)\n",
        "plt.title('score vs. alpha')\n",
        "plt.show()\n",
        "print 'The optimaized alpha and score of Lasso polynomial is: ', opt_a, max_score\n",
        "\n",
        "# combine the validate data and training data, use the optimal alpha, re-train the model\n",
        "lr_train_xp1 = poly.fit_transform(model_train_x)\n",
        "\n",
        "lasso_fp = linear_model.Lasso()\n",
        "lasso_fp.set_params(alpha = opt_a)\n",
        "lasso_fp.fit(lr_train_xp1, model_train_y)\n",
        "\n",
        "# lasso_fp is the Lasso model (polynomial feature), to be tested with test data."
      ],
      "execution_count": 0,
      "outputs": [
        {
          "output_type": "display_data",
          "data": {
            "image/png": "[encoded data removed]",
            "text/plain": [
              "<matplotlib.figure.Figure at 0x1a20503bd0>"
            ]
          },
          "metadata": {
            "tags": []
          }
        },
        {
          "output_type": "stream",
          "text": [
            "The optimaized alpha and score of Lasso polynomial is:  150.388694696 0.576494275806\n"
          ],
          "name": "stdout"
        },
        {
          "output_type": "execute_result",
          "data": {
            "text/plain": [
              "Lasso(alpha=150.38869469554086, copy_X=True, fit_intercept=True,\n",
              "   max_iter=1000, normalize=False, positive=False, precompute=False,\n",
              "   random_state=None, selection='cyclic', tol=0.0001, warm_start=False)"
            ]
          },
          "metadata": {
            "tags": []
          },
          "execution_count": 523
        }
      ]
    },
    {
      "cell_type": "code",
      "metadata": {
        "id": "GgrBOSg55XwL",
        "colab_type": "code",
        "colab": {},
        "outputId": "e22b89a5-c9be-4b45-9cf5-df6e293450db"
      },
      "source": [
        "# combine the validate data and training data, use the optimal alpha, re-train the model\n",
        "lr_train_xp1 = poly.fit_transform(model_train_x)\n",
        "\n",
        "lasso_fp = linear_model.Lasso()\n",
        "lasso_fp.set_params(alpha = opt_a)\n",
        "lasso_fp.fit(lr_train_xp1, model_train_y)\n",
        "\n",
        "# lasso_fp is the Lasso model (polynomial feature), to be tested with test data."
      ],
      "execution_count": 0,
      "outputs": [
        {
          "output_type": "execute_result",
          "data": {
            "text/plain": [
              "Lasso(alpha=14.384498882876629, copy_X=True, fit_intercept=True,\n",
              "   max_iter=1000, normalize=False, positive=False, precompute=False,\n",
              "   random_state=None, selection='cyclic', tol=0.0001, warm_start=False)"
            ]
          },
          "metadata": {
            "tags": []
          },
          "execution_count": 563
        }
      ]
    },
    {
      "cell_type": "markdown",
      "metadata": {
        "id": "05DdInE75XwQ",
        "colab_type": "text"
      },
      "source": [
        "### 3.1.2 Ridge linear regression\n",
        "#### 1) All featuers are linear"
      ]
    },
    {
      "cell_type": "code",
      "metadata": {
        "id": "o3MrcYcG5XwR",
        "colab_type": "code",
        "colab": {},
        "outputId": "d36306fe-4514-49ba-c398-8b9bd7d17fe4"
      },
      "source": [
        "# Use the same training data set as Lasso (linear features)\n",
        "lr_train, lr_validate = train_test_split(model_train, test_size=0.15, random_state = 0)\n",
        "\n",
        "alphas = np.logspace (-10, 3, num=150)\n",
        "# alphas= [0.000000001]\n",
        "scores = np.empty_like(alphas)\n",
        "opt_a = float('-inf')\n",
        "max_score = float('-inf')\n",
        "for i, a in enumerate(alphas):\n",
        "    ridge = linear_model.Ridge()\n",
        "    ridge.set_params(alpha = a)\n",
        "    ridge.fit(lr_train_x, lr_train_y)\n",
        "    scores[i] = ridge.score(lr_validate_x, lr_validate_y)\n",
        "    if scores[i] > max_score:\n",
        "        max_score = scores[i]\n",
        "        opt_a = a\n",
        "        ridge_save = ridge\n",
        "plt.plot(alphas, scores, color='r', linestyle='dashed', marker='o',markerfacecolor='r', markersize=6)\n",
        "plt.xlabel('alpha')\n",
        "plt.ylabel('score')\n",
        "plt.grid(True)\n",
        "plt.title('score vs. alpha')\n",
        "plt.show()\n",
        "print max_score, opt_a\n"
      ],
      "execution_count": 0,
      "outputs": [
        {
          "output_type": "display_data",
          "data": {
            "image/png": "[encoded data removed]",
            "text/plain": [
              "<matplotlib.figure.Figure at 0x1a18db0fd0>"
            ]
          },
          "metadata": {
            "tags": []
          }
        },
        {
          "output_type": "stream",
          "text": [
            "0.352846343331 163.9702658\n"
          ],
          "name": "stdout"
        },
        {
          "output_type": "execute_result",
          "data": {
            "text/plain": [
              "Ridge(alpha=163.97026580002054, copy_X=True, fit_intercept=True,\n",
              "   max_iter=None, normalize=False, random_state=None, solver='auto',\n",
              "   tol=0.001)"
            ]
          },
          "metadata": {
            "tags": []
          },
          "execution_count": 535
        }
      ]
    },
    {
      "cell_type": "code",
      "metadata": {
        "id": "T62zsRkC5XwV",
        "colab_type": "code",
        "colab": {},
        "outputId": "e2c40c1d-e9a4-4e8f-f221-008432a6a79a"
      },
      "source": [
        "# add the 15% validate data, use the optimal alpha, re-train the model\n",
        "\n",
        "ridge_f = linear_model.Ridge()\n",
        "ridge_f.set_params(alpha = opt_a)\n",
        "ridge_f.fit(model_train_x, model_train_y)\n",
        "\n",
        "# ridge_f is the Ridge model (linear feature), to be tested with test data."
      ],
      "execution_count": 0,
      "outputs": [
        {
          "output_type": "execute_result",
          "data": {
            "text/plain": [
              "Ridge(alpha=14.384498882876629, copy_X=True, fit_intercept=True,\n",
              "   max_iter=None, normalize=False, random_state=None, solver='auto',\n",
              "   tol=0.001)"
            ]
          },
          "metadata": {
            "tags": []
          },
          "execution_count": 565
        }
      ]
    },
    {
      "cell_type": "markdown",
      "metadata": {
        "id": "0-JIv05t5XwZ",
        "colab_type": "text"
      },
      "source": [
        "#### 2) Polynomial featuers"
      ]
    },
    {
      "cell_type": "code",
      "metadata": {
        "id": "-ArQ1IgJ5Xwa",
        "colab_type": "code",
        "colab": {},
        "outputId": "cf8ad5f1-a7a0-4bb5-f370-9711231056df"
      },
      "source": [
        "# Use the same training data set as Lasso (polynomial features)\n",
        "from sklearn.preprocessing import PolynomialFeatures\n",
        "poly = PolynomialFeatures(2)\n",
        "\n",
        "lr_train, lr_validate = train_test_split(model_train, test_size=0.15, random_state = 0)\n",
        "\n",
        "lr_train_x = lr_train.drop(['video_id', 'cvt_per_day'], axis = 1)\n",
        "lr_validate_x = lr_validate.drop(['video_id', 'cvt_per_day'], axis = 1)\n",
        "lr_train_y = lr_train['cvt_per_day']\n",
        "lr_validate_y = lr_validate['cvt_per_day']\n",
        "\n",
        "lr_train_xp = poly.fit_transform(lr_train_x)\n",
        "lr_validate_xp = poly.fit_transform(lr_validate_x)\n",
        "\n",
        "alphas = np.logspace (-2, 2, num=20)\n",
        "# alphas= [1]\n",
        "scores = np.empty_like(alphas)\n",
        "opt_a = float('-inf')\n",
        "max_score = float('-inf')\n",
        "for i, a in enumerate(alphas):\n",
        "    ridge = linear_model.Ridge()\n",
        "    ridge.set_params(alpha = a)\n",
        "    ridge.fit(lr_train_xp, lr_train_y)\n",
        "    scores[i] = ridge.score(lr_validate_xp, lr_validate_y)\n",
        "    if scores[i] > max_score:\n",
        "        max_score = scores[i]\n",
        "        opt_a = a\n",
        "        ridge_save = ridge\n",
        "        \n",
        "plt.plot(alphas, scores, color='brown', linestyle='dashed', marker='o',markerfacecolor='g', markersize=6)\n",
        "plt.xlabel('alpha')\n",
        "plt.ylabel('score')\n",
        "plt.grid(True)\n",
        "plt.title('score vs. alpha')\n",
        "plt.show()\n",
        "print max_score, opt_a\n",
        "\n"
      ],
      "execution_count": 0,
      "outputs": [
        {
          "output_type": "display_data",
          "data": {
            "image/png": "[encoded data removed]",
            "text/plain": [
              "<matplotlib.figure.Figure at 0x1a1aa7c210>"
            ]
          },
          "metadata": {
            "tags": []
          }
        },
        {
          "output_type": "stream",
          "text": [
            "0.471889946906 14.3844988829\n"
          ],
          "name": "stdout"
        },
        {
          "output_type": "execute_result",
          "data": {
            "text/plain": [
              "Ridge(alpha=14.384498882876629, copy_X=True, fit_intercept=True,\n",
              "   max_iter=None, normalize=False, random_state=None, solver='auto',\n",
              "   tol=0.001)"
            ]
          },
          "metadata": {
            "tags": []
          },
          "execution_count": 537
        }
      ]
    },
    {
      "cell_type": "code",
      "metadata": {
        "id": "rGy7Uzbv5Xwg",
        "colab_type": "code",
        "colab": {},
        "outputId": "78efe0f0-332b-4d67-fe99-db5cfe55eb1a"
      },
      "source": [
        "# add the 15% validate data, use the optimal alpha, re-train the model\n",
        "lr_train_xp1 = poly.fit_transform(model_train_x)\n",
        "\n",
        "ridge_fp = linear_model.Ridge()\n",
        "ridge_fp.set_params(alpha = opt_a)\n",
        "ridge_fp.fit(lr_train_xp1, model_train_y)\n",
        "\n",
        "# ridge_fp is the Ridge model (polynomial feature), to be tested with test data."
      ],
      "execution_count": 0,
      "outputs": [
        {
          "output_type": "execute_result",
          "data": {
            "text/plain": [
              "Ridge(alpha=14.384498882876629, copy_X=True, fit_intercept=True,\n",
              "   max_iter=None, normalize=False, random_state=None, solver='auto',\n",
              "   tol=0.001)"
            ]
          },
          "metadata": {
            "tags": []
          },
          "execution_count": 567
        }
      ]
    },
    {
      "cell_type": "markdown",
      "metadata": {
        "id": "PgJjGB6b5Xwm",
        "colab_type": "text"
      },
      "source": [
        "## 3.2: Non-linear model\n",
        "Random forest with Gridsearch cross-validation is used. The 'mean_scores' is used to narrow down the paramenters of n_estimator (number of trees in the forest) and Max_depth (maximum depth of the tree)."
      ]
    },
    {
      "cell_type": "markdown",
      "metadata": {
        "id": "2YTQhTRW5Xwn",
        "colab_type": "text"
      },
      "source": [
        "### Random forest"
      ]
    },
    {
      "cell_type": "code",
      "metadata": {
        "id": "s7RRZbz35Xwo",
        "colab_type": "code",
        "colab": {},
        "outputId": "1c29d174-a476-4907-daea-b09ce63216a8"
      },
      "source": [
        "from sklearn.ensemble import RandomForestRegressor\n",
        "from sklearn.cross_validation import cross_val_score\n",
        "from sklearn.model_selection import cross_validate\n",
        "# from sklearn.grid_search import GridSearchCV\n",
        "from sklearn.model_selection import GridSearchCV\n",
        "\n",
        "rf_train, rf_test = train_test_split(model_train, test_size=0.15, random_state = 0)\n",
        "\n",
        "rf_train_x = rf_train.drop(['video_id', 'cvt_per_day'], axis = 1)\n",
        "rf_test_x = rf_test.drop(['video_id', 'cvt_per_day'], axis = 1)\n",
        "rf_train_y = rf_train['cvt_per_day']\n",
        "rf_test_y = rf_test['cvt_per_day']\n",
        "\n",
        "param_grid = {\n",
        "                 'n_estimators': [54, 55, 56, 57, 58, 59, 60, 62],\n",
        "                 'max_depth': [12, 13, 14, 15, 16, 17]\n",
        "             }\n",
        "\n",
        "rf = RandomForestRegressor(random_state=2, max_features = 'sqrt')\n",
        "grid_rf = GridSearchCV(rf, param_grid, cv=5)\n",
        "grid_rf.fit(rf_train_x, rf_train_y)"
      ],
      "execution_count": 0,
      "outputs": [
        {
          "output_type": "execute_result",
          "data": {
            "text/plain": [
              "GridSearchCV(cv=5, error_score='raise',\n",
              "       estimator=RandomForestRegressor(bootstrap=True, criterion='mse', max_depth=None,\n",
              "           max_features='sqrt', max_leaf_nodes=None,\n",
              "           min_impurity_decrease=0.0, min_impurity_split=None,\n",
              "           min_samples_leaf=1, min_samples_split=2,\n",
              "           min_weight_fraction_leaf=0.0, n_estimators=10, n_jobs=1,\n",
              "           oob_score=False, random_state=2, verbose=0, warm_start=False),\n",
              "       fit_params=None, iid=True, n_jobs=1,\n",
              "       param_grid={'n_estimators': [54, 55, 56, 57, 58, 59, 60, 62], 'max_depth': [12, 13, 14, 15, 16, 17]},\n",
              "       pre_dispatch='2*n_jobs', refit=True, return_train_score='warn',\n",
              "       scoring=None, verbose=0)"
            ]
          },
          "metadata": {
            "tags": []
          },
          "execution_count": 547
        }
      ]
    },
    {
      "cell_type": "code",
      "metadata": {
        "id": "bwcZnp7a5Xw0",
        "colab_type": "code",
        "colab": {},
        "outputId": "ab6e7c01-f227-4df5-e227-3ca86e4e4de1"
      },
      "source": [
        "grid_rf.best_params_ "
      ],
      "execution_count": 0,
      "outputs": [
        {
          "output_type": "execute_result",
          "data": {
            "text/plain": [
              "{'max_depth': 14, 'n_estimators': 55}"
            ]
          },
          "metadata": {
            "tags": []
          },
          "execution_count": 548
        }
      ]
    },
    {
      "cell_type": "code",
      "metadata": {
        "id": "31tH9nY05Xw4",
        "colab_type": "code",
        "colab": {},
        "outputId": "6d534de5-5469-41c5-968c-69ef6cf11e69"
      },
      "source": [
        "grid_rf.cv_results_"
      ],
      "execution_count": 0,
      "outputs": [
        {
          "output_type": "execute_result",
          "data": {
            "text/plain": [
              "{'mean_fit_time': array([ 0.36916981,  0.35950141,  0.42900295,  0.40531178,  0.39311156,\n",
              "         0.41674824,  0.45042562,  0.45628209,  0.37858076,  0.44673619,\n",
              "         0.40540905,  0.40211859,  0.41849351,  0.3643518 ,  0.39198527,\n",
              "         0.42878442,  0.4266192 ,  0.36968403,  0.39706817,  0.42526541,\n",
              "         0.44929538,  0.4447504 ,  0.39063497,  0.45407529,  0.41477032,\n",
              "         0.40768919,  0.40273037,  0.37098956,  0.36738343,  0.4633976 ,\n",
              "         0.52335138,  0.53311267,  0.44112787,  0.3956502 ,  0.42715931,\n",
              "         0.42635398,  0.49343877,  0.43578639,  0.44081945,  0.40852718,\n",
              "         0.4248323 ,  0.4149828 ,  0.44752393,  0.41114397,  0.42644544,\n",
              "         0.49205298,  0.44053264,  0.4894486 ]),\n",
              " 'mean_score_time': array([ 0.01002541,  0.00855536,  0.012081  ,  0.01007323,  0.01001897,\n",
              "         0.01090822,  0.01401219,  0.01323199,  0.01299095,  0.01412115,\n",
              "         0.00950298,  0.01257663,  0.01174507,  0.00998902,  0.01286511,\n",
              "         0.01000957,  0.01118941,  0.01169868,  0.01066942,  0.01049461,\n",
              "         0.01170635,  0.01039467,  0.01249762,  0.01281385,  0.01054883,\n",
              "         0.01217103,  0.01145983,  0.01062946,  0.009588  ,  0.01226568,\n",
              "         0.01420159,  0.01309986,  0.01325593,  0.01160479,  0.01245422,\n",
              "         0.01061678,  0.01576476,  0.01366105,  0.0149724 ,  0.01081161,\n",
              "         0.01245141,  0.01061363,  0.01460524,  0.01119547,  0.01328497,\n",
              "         0.01400485,  0.01613636,  0.01176186]),\n",
              " 'mean_test_score': array([ 0.52594108,  0.52815319,  0.52942245,  0.52790336,  0.52759653,\n",
              "         0.52829085,  0.52835966,  0.52679754,  0.51051875,  0.51381653,\n",
              "         0.51507212,  0.51297945,  0.5137623 ,  0.51384872,  0.51273851,\n",
              "         0.5078741 ,  0.53073913,  0.53321349,  0.53291865,  0.52923523,\n",
              "         0.53213865,  0.52947774,  0.53041224,  0.52964435,  0.50409331,\n",
              "         0.50669595,  0.50879669,  0.50728799,  0.50825807,  0.5071366 ,\n",
              "         0.50837898,  0.50664748,  0.51278909,  0.51593567,  0.51836055,\n",
              "         0.51571652,  0.51657785,  0.5168668 ,  0.5142878 ,  0.51166681,\n",
              "         0.48950928,  0.49355284,  0.49441952,  0.49307858,  0.49718588,\n",
              "         0.49800494,  0.49790069,  0.49625163]),\n",
              " 'mean_train_score': array([ 0.90971934,  0.90999048,  0.91122349,  0.91223622,  0.91199235,\n",
              "         0.91136909,  0.91249935,  0.9131469 ,  0.90888897,  0.90934784,\n",
              "         0.91011331,  0.91141105,  0.91123839,  0.91088234,  0.91195346,\n",
              "         0.91274736,  0.91526707,  0.91558541,  0.91618927,  0.91741683,\n",
              "         0.91762926,  0.91737524,  0.91838074,  0.91901404,  0.91695453,\n",
              "         0.91728433,  0.91799468,  0.91933132,  0.91916962,  0.91857503,\n",
              "         0.91977353,  0.92044243,  0.91792959,  0.91827056,  0.91890961,\n",
              "         0.92024819,  0.92055233,  0.9197671 ,  0.92111047,  0.92195332,\n",
              "         0.91634232,  0.91688097,  0.91766431,  0.91899688,  0.91908569,\n",
              "         0.91860953,  0.91996172,  0.92078385]),\n",
              " 'param_max_depth': masked_array(data = [12 12 12 12 12 12 12 12 13 13 13 13 13 13 13 13 14 14 14 14 14 14 14 14 15\n",
              "  15 15 15 15 15 15 15 16 16 16 16 16 16 16 16 17 17 17 17 17 17 17 17],\n",
              "              mask = [False False False False False False False False False False False False\n",
              "  False False False False False False False False False False False False\n",
              "  False False False False False False False False False False False False\n",
              "  False False False False False False False False False False False False],\n",
              "        fill_value = ?),\n",
              " 'param_n_estimators': masked_array(data = [54 55 56 57 58 59 60 62 54 55 56 57 58 59 60 62 54 55 56 57 58 59 60 62 54\n",
              "  55 56 57 58 59 60 62 54 55 56 57 58 59 60 62 54 55 56 57 58 59 60 62],\n",
              "              mask = [False False False False False False False False False False False False\n",
              "  False False False False False False False False False False False False\n",
              "  False False False False False False False False False False False False\n",
              "  False False False False False False False False False False False False],\n",
              "        fill_value = ?),\n",
              " 'params': [{'max_depth': 12, 'n_estimators': 54},\n",
              "  {'max_depth': 12, 'n_estimators': 55},\n",
              "  {'max_depth': 12, 'n_estimators': 56},\n",
              "  {'max_depth': 12, 'n_estimators': 57},\n",
              "  {'max_depth': 12, 'n_estimators': 58},\n",
              "  {'max_depth': 12, 'n_estimators': 59},\n",
              "  {'max_depth': 12, 'n_estimators': 60},\n",
              "  {'max_depth': 12, 'n_estimators': 62},\n",
              "  {'max_depth': 13, 'n_estimators': 54},\n",
              "  {'max_depth': 13, 'n_estimators': 55},\n",
              "  {'max_depth': 13, 'n_estimators': 56},\n",
              "  {'max_depth': 13, 'n_estimators': 57},\n",
              "  {'max_depth': 13, 'n_estimators': 58},\n",
              "  {'max_depth': 13, 'n_estimators': 59},\n",
              "  {'max_depth': 13, 'n_estimators': 60},\n",
              "  {'max_depth': 13, 'n_estimators': 62},\n",
              "  {'max_depth': 14, 'n_estimators': 54},\n",
              "  {'max_depth': 14, 'n_estimators': 55},\n",
              "  {'max_depth': 14, 'n_estimators': 56},\n",
              "  {'max_depth': 14, 'n_estimators': 57},\n",
              "  {'max_depth': 14, 'n_estimators': 58},\n",
              "  {'max_depth': 14, 'n_estimators': 59},\n",
              "  {'max_depth': 14, 'n_estimators': 60},\n",
              "  {'max_depth': 14, 'n_estimators': 62},\n",
              "  {'max_depth': 15, 'n_estimators': 54},\n",
              "  {'max_depth': 15, 'n_estimators': 55},\n",
              "  {'max_depth': 15, 'n_estimators': 56},\n",
              "  {'max_depth': 15, 'n_estimators': 57},\n",
              "  {'max_depth': 15, 'n_estimators': 58},\n",
              "  {'max_depth': 15, 'n_estimators': 59},\n",
              "  {'max_depth': 15, 'n_estimators': 60},\n",
              "  {'max_depth': 15, 'n_estimators': 62},\n",
              "  {'max_depth': 16, 'n_estimators': 54},\n",
              "  {'max_depth': 16, 'n_estimators': 55},\n",
              "  {'max_depth': 16, 'n_estimators': 56},\n",
              "  {'max_depth': 16, 'n_estimators': 57},\n",
              "  {'max_depth': 16, 'n_estimators': 58},\n",
              "  {'max_depth': 16, 'n_estimators': 59},\n",
              "  {'max_depth': 16, 'n_estimators': 60},\n",
              "  {'max_depth': 16, 'n_estimators': 62},\n",
              "  {'max_depth': 17, 'n_estimators': 54},\n",
              "  {'max_depth': 17, 'n_estimators': 55},\n",
              "  {'max_depth': 17, 'n_estimators': 56},\n",
              "  {'max_depth': 17, 'n_estimators': 57},\n",
              "  {'max_depth': 17, 'n_estimators': 58},\n",
              "  {'max_depth': 17, 'n_estimators': 59},\n",
              "  {'max_depth': 17, 'n_estimators': 60},\n",
              "  {'max_depth': 17, 'n_estimators': 62}],\n",
              " 'rank_test_score': array([16, 12,  8, 13, 14, 11, 10, 15, 31, 25, 22, 27, 26, 24, 29, 35,  4,\n",
              "         1,  2,  9,  3,  7,  5,  6, 40, 38, 32, 36, 34, 37, 33, 39, 28, 20,\n",
              "        17, 21, 19, 18, 23, 30, 48, 46, 45, 47, 43, 41, 42, 44], dtype=int32),\n",
              " 'split0_test_score': array([ 0.42299433,  0.42712801,  0.42667278,  0.42154432,  0.41914699,\n",
              "         0.42233703,  0.42562627,  0.4281463 ,  0.43034257,  0.43406076,\n",
              "         0.4361002 ,  0.4312841 ,  0.42654134,  0.42578336,  0.42981489,\n",
              "         0.43094089,  0.40253725,  0.40736445,  0.40948209,  0.40471836,\n",
              "         0.40839406,  0.40758325,  0.40912086,  0.4108584 ,  0.42923689,\n",
              "         0.43332659,  0.43045732,  0.42444816,  0.42331157,  0.42528742,\n",
              "         0.42488578,  0.42777003,  0.42667798,  0.4304465 ,  0.43465505,\n",
              "         0.42973276,  0.42861922,  0.43010989,  0.42858992,  0.42934142,\n",
              "         0.41605568,  0.41924425,  0.41585129,  0.41023724,  0.41747333,\n",
              "         0.41911374,  0.42179632,  0.4243445 ]),\n",
              " 'split0_train_score': array([ 0.92552421,  0.92503865,  0.92577977,  0.92673995,  0.92630107,\n",
              "         0.92547928,  0.92546078,  0.92605773,  0.92436119,  0.92403974,\n",
              "         0.92436292,  0.92565741,  0.92507231,  0.92449377,  0.92432614,\n",
              "         0.92482841,  0.93295869,  0.93249904,  0.93331872,  0.93440333,\n",
              "         0.93402024,  0.93337714,  0.93319384,  0.93340762,  0.93549905,\n",
              "         0.93508321,  0.93541871,  0.93621143,  0.93547017,  0.93452497,\n",
              "         0.93457054,  0.93478521,  0.93572028,  0.93530535,  0.93555838,\n",
              "         0.93645921,  0.93628   ,  0.93574753,  0.93578172,  0.93648986,\n",
              "         0.93227113,  0.9318928 ,  0.93238823,  0.93339368,  0.93322674,\n",
              "         0.93294278,  0.93342227,  0.93375775]),\n",
              " 'split1_test_score': array([ 0.45998572,  0.46482427,  0.46617328,  0.46538192,  0.46242722,\n",
              "         0.46158897,  0.45932969,  0.46105101,  0.40399481,  0.40995645,\n",
              "         0.40759772,  0.40652784,  0.40933564,  0.40980176,  0.40792448,\n",
              "         0.40651452,  0.42533062,  0.4302725 ,  0.43221431,  0.42400786,\n",
              "         0.42576875,  0.42124391,  0.42468931,  0.42979974,  0.40476087,\n",
              "         0.40990299,  0.41231482,  0.40522267,  0.40848675,  0.40928002,\n",
              "         0.40825537,  0.41054757,  0.4097574 ,  0.41505205,  0.41645551,\n",
              "         0.41632254,  0.42116079,  0.42183096,  0.41464342,  0.41738728,\n",
              "         0.33396902,  0.34359151,  0.35076431,  0.34185837,  0.34469762,\n",
              "         0.34865306,  0.34839692,  0.35105297]),\n",
              " 'split1_train_score': array([ 0.91569632,  0.91506304,  0.91534322,  0.91562641,  0.91529924,\n",
              "         0.9143677 ,  0.91505339,  0.91621258,  0.91172753,  0.91136171,\n",
              "         0.91186359,  0.91280059,  0.91270455,  0.91207772,  0.91316166,\n",
              "         0.91455194,  0.91450522,  0.91375962,  0.9140797 ,  0.91500035,\n",
              "         0.91585275,  0.91680235,  0.91730656,  0.9184384 ,  0.91721801,\n",
              "         0.91641848,  0.91676457,  0.91846312,  0.91846697,  0.91827949,\n",
              "         0.91958755,  0.92091245,  0.91920579,  0.91830834,  0.91874033,\n",
              "         0.92028924,  0.92000949,  0.91933683,  0.92053274,  0.92180748,\n",
              "         0.91514328,  0.91472918,  0.91550617,  0.91630821,  0.91683717,\n",
              "         0.91684702,  0.91817738,  0.91986753]),\n",
              " 'split2_test_score': array([ 0.71668512,  0.72033222,  0.72231593,  0.7230792 ,  0.72821504,\n",
              "         0.72370077,  0.72299275,  0.72447276,  0.71195848,  0.71619687,\n",
              "         0.71523232,  0.72103638,  0.72430684,  0.72238638,  0.71857606,\n",
              "         0.71513843,  0.71540789,  0.71915587,  0.72014776,  0.71968317,\n",
              "         0.72316445,  0.72419428,  0.72446417,  0.72561924,  0.69690163,\n",
              "         0.70185189,  0.70003306,  0.70247928,  0.70510117,  0.70527108,\n",
              "         0.70661831,  0.70552954,  0.69401185,  0.69944324,  0.70193123,\n",
              "         0.69821486,  0.7039674 ,  0.7047933 ,  0.70313713,  0.70605317,\n",
              "         0.68869365,  0.69488008,  0.69334875,  0.6969973 ,  0.70134319,\n",
              "         0.70034646,  0.69640185,  0.69868132]),\n",
              " 'split2_train_score': array([ 0.89894786,  0.89961893,  0.90168499,  0.90230237,  0.90216726,\n",
              "         0.90135422,  0.90263321,  0.90273217,  0.90067487,  0.9014393 ,\n",
              "         0.90231729,  0.90339858,  0.90248113,  0.90156023,  0.90260642,\n",
              "         0.90246476,  0.90451007,  0.90542283,  0.90619381,  0.90712573,\n",
              "         0.9073855 ,  0.90638145,  0.90805063,  0.90839109,  0.90447519,\n",
              "         0.90560834,  0.90620526,  0.9074625 ,  0.90703534,  0.90617899,\n",
              "         0.90750108,  0.9076835 ,  0.90193026,  0.90319669,  0.9040863 ,\n",
              "         0.9056703 ,  0.90533484,  0.90443379,  0.90630268,  0.90724058,\n",
              "         0.90855803,  0.90961626,  0.91014364,  0.91156402,  0.9111101 ,\n",
              "         0.91053651,  0.91216566,  0.91268571]),\n",
              " 'split3_test_score': array([ 0.48961168,  0.49190198,  0.49033386,  0.48745755,  0.48535214,\n",
              "         0.48759932,  0.48554553,  0.48520464,  0.49811772,  0.5011882 ,\n",
              "         0.50026056,  0.4983821 ,  0.49906828,  0.49590226,  0.49071433,\n",
              "         0.4881538 ,  0.52489412,  0.52980238,  0.52962669,  0.52381945,\n",
              "         0.52356903,  0.51957049,  0.51944319,  0.5201344 ,  0.5021873 ,\n",
              "         0.50570328,  0.50974295,  0.50742495,  0.50399928,  0.49730414,\n",
              "         0.49635245,  0.4975695 ,  0.48738648,  0.49110389,  0.49227113,\n",
              "         0.49273889,  0.49249207,  0.49065742,  0.48757055,  0.48668437,\n",
              "         0.47633721,  0.4799111 ,  0.48466141,  0.48282815,  0.48479302,\n",
              "         0.48141072,  0.48393827,  0.48328768]),\n",
              " 'split3_train_score': array([ 0.90340986,  0.90427983,  0.90548151,  0.90716271,  0.9068    ,\n",
              "         0.90684987,  0.90878406,  0.90986921,  0.90302476,  0.90405861,\n",
              "         0.90443105,  0.90620546,  0.90638521,  0.90683018,  0.90880149,\n",
              "         0.91070327,  0.91506497,  0.91591874,  0.91664995,  0.91816784,\n",
              "         0.91778385,  0.91765751,  0.91938283,  0.92049168,  0.9106245 ,\n",
              "         0.91156193,  0.91310871,  0.91488813,  0.914267  ,  0.91351128,\n",
              "         0.91535244,  0.91688324,  0.91594142,  0.91682818,  0.91748525,\n",
              "         0.91877913,  0.91949859,  0.91852464,  0.92035454,  0.92169135,\n",
              "         0.90919459,  0.91023845,  0.91104354,  0.91303904,  0.91291065,\n",
              "         0.91219793,  0.91397134,  0.91531099]),\n",
              " 'split4_test_score': array([ 0.54039274,  0.53653388,  0.54157232,  0.54201071,  0.54279697,\n",
              "         0.54619084,  0.54826656,  0.53505845,  0.508156  ,  0.50764961,\n",
              "         0.51614731,  0.5076342 ,  0.50952842,  0.51534293,  0.5166331 ,\n",
              "         0.49857539,  0.58560601,  0.57954246,  0.57318291,  0.5740117 ,\n",
              "         0.57986104,  0.57485484,  0.57439769,  0.56184714,  0.48734934,\n",
              "         0.48265401,  0.49140839,  0.49684806,  0.50037171,  0.49851015,\n",
              "         0.50575902,  0.49178155,  0.54612471,  0.54363738,  0.54649318,\n",
              "         0.54157829,  0.53664318,  0.5369324 ,  0.53749222,  0.51883866,\n",
              "         0.53253972,  0.5301749 ,  0.52751003,  0.53352125,  0.53766819,\n",
              "         0.54054319,  0.53901455,  0.52391575]),\n",
              " 'split4_train_score': array([ 0.90501846,  0.90595197,  0.90782795,  0.90934967,  0.90939416,\n",
              "         0.9087944 ,  0.91056532,  0.91086281,  0.90465648,  0.90583982,\n",
              "         0.90759172,  0.9089932 ,  0.90954873,  0.90944979,  0.91087156,\n",
              "         0.91118839,  0.90929638,  0.91032682,  0.91070416,  0.91238692,\n",
              "         0.91310397,  0.91265777,  0.91396986,  0.91434139,  0.9169559 ,\n",
              "         0.91774971,  0.91847614,  0.91963144,  0.92060861,  0.92038044,\n",
              "         0.92185602,  0.92194775,  0.9168502 ,  0.91771426,  0.9186778 ,\n",
              "         0.92004305,  0.92163874,  0.92079271,  0.92258069,  0.92253732,\n",
              "         0.91654456,  0.91792817,  0.91923999,  0.92067946,  0.92134381,\n",
              "         0.92052341,  0.92207194,  0.92229727]),\n",
              " 'std_fit_time': array([ 0.02080348,  0.02655688,  0.09143469,  0.04506899,  0.04731739,\n",
              "         0.06516863,  0.02754365,  0.02814641,  0.03941935,  0.07906847,\n",
              "         0.05554884,  0.03254755,  0.02801151,  0.02441783,  0.05206689,\n",
              "         0.03910402,  0.03057717,  0.02660501,  0.05254427,  0.04688775,\n",
              "         0.01725418,  0.02839049,  0.0292331 ,  0.04532275,  0.01773068,\n",
              "         0.04972854,  0.03946827,  0.02972684,  0.01336509,  0.02028945,\n",
              "         0.06127821,  0.08224376,  0.02962653,  0.01771226,  0.03728972,\n",
              "         0.04279482,  0.06653532,  0.0341044 ,  0.04576145,  0.03059285,\n",
              "         0.00997584,  0.03502492,  0.03444353,  0.0522034 ,  0.03957754,\n",
              "         0.04354029,  0.01989863,  0.06173012]),\n",
              " 'std_score_time': array([ 0.00212161,  0.00197731,  0.00500678,  0.00066041,  0.00260021,\n",
              "         0.00164467,  0.0049868 ,  0.00249941,  0.00542261,  0.0026229 ,\n",
              "         0.00159122,  0.00421406,  0.00179935,  0.00198328,  0.00509983,\n",
              "         0.00138909,  0.00413562,  0.00098472,  0.00236727,  0.00209063,\n",
              "         0.00201899,  0.0011902 ,  0.00692386,  0.0014901 ,  0.00185379,\n",
              "         0.00213927,  0.00222829,  0.00237269,  0.00068503,  0.00230434,\n",
              "         0.00233816,  0.00270762,  0.00206385,  0.0018698 ,  0.00265194,\n",
              "         0.00156654,  0.00223877,  0.00138078,  0.00279837,  0.00127265,\n",
              "         0.00136879,  0.00196345,  0.00165718,  0.00200948,  0.00266605,\n",
              "         0.00233242,  0.00273525,  0.00247189]),\n",
              " 'std_test_score': array([ 0.10285158,  0.10253385,  0.10341533,  0.10505502,  0.10798763,\n",
              "         0.10570709,  0.10532172,  0.10484409,  0.10821365,  0.10801951,\n",
              "         0.10780504,  0.11097327,  0.1123532 ,  0.11174425,  0.11024573,\n",
              "         0.10923793,  0.11378151,  0.11243243,  0.11144749,  0.11394833,\n",
              "         0.11446225,  0.11548569,  0.11457725,  0.11282951,  0.102921  ,\n",
              "         0.10339325,  0.10232711,  0.10537987,  0.10586247,  0.10558387,\n",
              "         0.10628538,  0.10521413,  0.10262602,  0.10254471,  0.10256078,\n",
              "         0.10179074,  0.1029289 ,  0.10295379,  0.10413731,  0.10407888,\n",
              "         0.1194413 ,  0.11841748,  0.11628856,  0.12091218,  0.12093329,\n",
              "         0.11966639,  0.11787591,  0.11679688]),\n",
              " 'std_train_score': array([ 0.00962757,  0.00904067,  0.00853628,  0.00842147,  0.00831767,\n",
              "         0.00819072,  0.00760797,  0.00775261,  0.00856996,  0.00803411,\n",
              "         0.00781715,  0.00777217,  0.00770227,  0.00764296,  0.00711359,\n",
              "         0.00723255,  0.00964341,  0.00917002,  0.00925285,  0.00923203,\n",
              "         0.00891355,  0.00893965,  0.0083397 ,  0.00829904,  0.01039011,\n",
              "         0.00986753,  0.00967683,  0.00944873,  0.00937602,  0.00934934,\n",
              "         0.0088711 ,  0.00875968,  0.01076321,  0.01019605,  0.00999023,\n",
              "         0.00977255,  0.00981343,  0.00993243,  0.00935503,  0.00925426,\n",
              "         0.0085661 ,  0.00809915,  0.00805393,  0.00784947,  0.00789766,\n",
              "         0.00798115,  0.00755628,  0.00730731])}"
            ]
          },
          "metadata": {
            "tags": []
          },
          "execution_count": 549
        }
      ]
    },
    {
      "cell_type": "code",
      "metadata": {
        "scrolled": true,
        "id": "NJHIzEvC5Xw7",
        "colab_type": "code",
        "colab": {},
        "outputId": "dec68f86-0695-46b9-a1cc-01f6ebd8b34b"
      },
      "source": [
        "# plot the effect of different number of trees and maximum tree-depth druing cross validation \n",
        "scores = grid_rf.cv_results_['mean_test_score']\n",
        "\n",
        "n_est = [54, 55, 56, 57, 58, 59, 60, 62]\n",
        "m_depth=[12, 13, 14, 15, 16, 17]\n",
        "scores = np.array(scores).reshape(len(m_depth), len(n_est))\n",
        "fig = plt.figure()\n",
        "ax = plt.subplot(111)\n",
        "for ind, i in enumerate(m_depth):\n",
        "    plt.plot(n_est, scores[ind], '-o', label='n estimator.' + str(i),)\n",
        "    \n",
        "ax.legend(loc='center left', bbox_to_anchor=(1, 0.5))\n",
        "plt.xlabel('Mean score')\n",
        "plt.ylabel('Max depth')\n",
        "plt.grid(True)\n",
        "plt.show()\n",
        "# savefig('rf_1')"
      ],
      "execution_count": 0,
      "outputs": [
        {
          "output_type": "stream",
          "text": [
            "/Users/Hua/anaconda2/lib/python2.7/site-packages/sklearn/model_selection/_search.py:761: DeprecationWarning: The grid_scores_ attribute was deprecated in version 0.18 in favor of the more elaborate cv_results_ attribute. The grid_scores_ attribute will not be available from 0.20\n",
            "  DeprecationWarning)\n"
          ],
          "name": "stderr"
        },
        {
          "output_type": "display_data",
          "data": {
            "image/png": "[encoded data removed]",
            "text/plain": [
              "<matplotlib.figure.Figure at 0x1a1c54fad0>"
            ]
          },
          "metadata": {
            "tags": []
          }
        }
      ]
    },
    {
      "cell_type": "code",
      "metadata": {
        "id": "d76kltAa5XxA",
        "colab_type": "code",
        "colab": {},
        "outputId": "89a5d668-996e-4d16-c5aa-47bb8807ca11"
      },
      "source": [
        "# add both training and validation data together as the new training data\n",
        "rf = RandomForestRegressor(random_state=2, max_features = 'sqrt', max_depth= 14, n_estimators=55)\n",
        "rf.fit(model_train_x, model_train_y)"
      ],
      "execution_count": 0,
      "outputs": [
        {
          "output_type": "execute_result",
          "data": {
            "text/plain": [
              "RandomForestRegressor(bootstrap=True, criterion='mse', max_depth=14,\n",
              "           max_features='sqrt', max_leaf_nodes=None,\n",
              "           min_impurity_decrease=0.0, min_impurity_split=None,\n",
              "           min_samples_leaf=1, min_samples_split=2,\n",
              "           min_weight_fraction_leaf=0.0, n_estimators=55, n_jobs=1,\n",
              "           oob_score=False, random_state=2, verbose=0, warm_start=False)"
            ]
          },
          "metadata": {
            "tags": []
          },
          "execution_count": 569
        }
      ]
    },
    {
      "cell_type": "markdown",
      "metadata": {
        "id": "qsBUra0U5XxH",
        "colab_type": "text"
      },
      "source": [
        "The best rf model have n_estimator = 14, and max_depth = 55."
      ]
    },
    {
      "cell_type": "markdown",
      "metadata": {
        "id": "AUvvMHC15XxI",
        "colab_type": "text"
      },
      "source": [
        "# Part 4: Model Evaluation\n",
        "Test data is the reserved 15% of the whole dataset, and has never been seen by the above models. "
      ]
    },
    {
      "cell_type": "markdown",
      "metadata": {
        "id": "inoV0qLi5XxI",
        "colab_type": "text"
      },
      "source": [
        "## 4.1 Lasso test with linear features (lasso_f)"
      ]
    },
    {
      "cell_type": "code",
      "metadata": {
        "id": "B2pOfEoL5XxJ",
        "colab_type": "code",
        "colab": {},
        "outputId": "1a70ceca-9014-4005-86d8-a76a2deabc84"
      },
      "source": [
        "# Lasso_f test (with linear features)\n",
        "\n",
        "lasso_f_score = lasso_f.score(model_test_x, model_test_y)\n",
        "pred_y = lasso_f.predict(model_test_x)\n",
        "\n",
        "# The mean squared error and root mean square error\n",
        "MSE_lasso_f = mean_squared_error(model_test_y, pred_y)\n",
        "RMSE_lasso_f = sqrt(mean_squared_error(model_test_y, pred_y))\n",
        "\n",
        "print 'lasso_f score: ', lasso_f_score\n",
        "print 'Mean square error of lasso_f: ', MSE_lasso_f\n",
        "print 'Root mean squared error of lasso_f:', RMSE_lasso_f\n",
        "# print ('Coefficients of lasso_f: ', lasso_f.coef_)"
      ],
      "execution_count": 0,
      "outputs": [
        {
          "output_type": "stream",
          "text": [
            "lasso_f score:  0.111239407604\n",
            "Mean square error of lasso_f:  235850973.098\n",
            "Root mean squared error of lasso_f: 15357.4403173\n"
          ],
          "name": "stdout"
        }
      ]
    },
    {
      "cell_type": "markdown",
      "metadata": {
        "id": "MPWGjQEw5XxN",
        "colab_type": "text"
      },
      "source": [
        "## 4.2 Lasso test with polynomial features (lasso_fp)"
      ]
    },
    {
      "cell_type": "code",
      "metadata": {
        "id": "Pq5418eg5XxO",
        "colab_type": "code",
        "colab": {},
        "outputId": "eaf8d98b-04d1-4746-80ae-3961de35ff1d"
      },
      "source": [
        "# Lasso_fp test (with polynomial features)\n",
        "model_test_xp = poly.fit_transform(model_test_x)\n",
        "pred_y = lasso_fp.predict(model_test_xp)\n",
        "\n",
        "lasso_fp_score = lasso_fp.score(model_test_xp, model_test_y)\n",
        "MSE_lasso_fp = mean_squared_error(model_test_y, pred_y)\n",
        "RMSE_lasso_fp = sqrt(mean_squared_error(model_test_y, pred_y))\n",
        "\n",
        "print 'lasso_fp score: ', lasso_fp_score\n",
        "print 'Mean square error of lasso_fp: ', MSE_lasso_fp\n",
        "print 'Root mean squared error of lasso_fp:', RMSE_lasso_fp\n",
        "# print ('Coefficients of lasso_fp: ', lasso_fp.coef_)"
      ],
      "execution_count": 0,
      "outputs": [
        {
          "output_type": "stream",
          "text": [
            "lasso_fp score:  0.404526540512\n",
            "Mean square error of lasso_fp:  158021176.992\n",
            "Root mean squared error of lasso_fp: 12570.6474373\n"
          ],
          "name": "stdout"
        }
      ]
    },
    {
      "cell_type": "markdown",
      "metadata": {
        "id": "sk1yy4zh5XxS",
        "colab_type": "text"
      },
      "source": [
        "## 4.3 Ridge test with linear features (ridge_f)"
      ]
    },
    {
      "cell_type": "code",
      "metadata": {
        "id": "zZ919GiV5XxT",
        "colab_type": "code",
        "colab": {},
        "outputId": "907b7060-a858-41a4-a489-71ac1b20befe"
      },
      "source": [
        "# ridge_f test (with linear features)\n",
        "\n",
        "ridge_f_score = ridge_f.score(model_test_x, model_test_y)\n",
        "pred_y = ridge_f.predict(model_test_x)\n",
        "\n",
        "# The mean squared error and root mean square error\n",
        "MSE_ridge_f = mean_squared_error(model_test_y, pred_y)\n",
        "RMSE_ridge_f = sqrt(mean_squared_error(model_test_y, pred_y))\n",
        "\n",
        "print 'ridge_f score: ', ridge_f_score\n",
        "print 'Mean square error of ridge_f: ', MSE_ridge_f\n",
        "print 'Root mean squared error of ridge_f:', RMSE_ridge_f\n",
        "# print ('Coefficients of ridge_f: ', ridge_f.coef_)"
      ],
      "execution_count": 0,
      "outputs": [
        {
          "output_type": "stream",
          "text": [
            "ridge_f score:  0.11188321431\n",
            "Mean square error of ridge_f:  235680125.696\n",
            "Root mean squared error of ridge_f: 15351.8769438\n"
          ],
          "name": "stdout"
        }
      ]
    },
    {
      "cell_type": "markdown",
      "metadata": {
        "id": "df_XSJnc5Xx-",
        "colab_type": "text"
      },
      "source": [
        "## 4.4 Ridge test with polynomial features (ridge_fp)"
      ]
    },
    {
      "cell_type": "code",
      "metadata": {
        "id": "rewryk_d5Xx_",
        "colab_type": "code",
        "colab": {},
        "outputId": "46791c30-314c-4bea-a840-e8a3ee881d94"
      },
      "source": [
        "# ridge_fp test (with polynomial features)\n",
        "model_test_xp = poly.fit_transform(model_test_x)\n",
        "\n",
        "ridge_fp_score = ridge_fp.score(model_test_xp, model_test_y)\n",
        "MSE_ridge_fp = mean_squared_error(model_test_y, pred_y)\n",
        "RMSE_ridge_fp = sqrt(mean_squared_error(model_test_y, pred_y))\n",
        "\n",
        "pred_y = ridge_fp.predict(model_test_xp)\n",
        "print 'ridge_fp score: ', ridge_f_score\n",
        "print 'Mean square error of ridge_fp: ', MSE_ridge_fp\n",
        "print 'Root mean squared error of ridge_fp:', RMSE_ridge_fp\n",
        "#print ('Coefficients of ridge_fp: ', ridge_fp.coef_)"
      ],
      "execution_count": 0,
      "outputs": [
        {
          "output_type": "stream",
          "text": [
            "ridge_fp score:  0.11188321431\n",
            "Mean square error of ridge_fp:  163758248.963\n",
            "Root mean squared error of ridge_fp: 12796.8062017\n"
          ],
          "name": "stdout"
        }
      ]
    },
    {
      "cell_type": "markdown",
      "metadata": {
        "id": "Te826imy5XyG",
        "colab_type": "text"
      },
      "source": [
        "## 4.5 Random forest test (rf)"
      ]
    },
    {
      "cell_type": "code",
      "metadata": {
        "id": "DFB-zxW15XyH",
        "colab_type": "code",
        "colab": {},
        "outputId": "788c5724-e3f3-4d5a-ccc2-f24e6d7b5006"
      },
      "source": [
        "rf_score = rf.score(model_test_x, model_test_y)\n",
        "\n",
        "pred_y = rf.predict(model_test_x)\n",
        "MSE_rf = mean_squared_error(model_test_y, pred_y)\n",
        "RMSE_rf = sqrt(mean_squared_error(model_test_y, pred_y))\n",
        "\n",
        "# The mean squared error and root mean square error\n",
        "print 'rf score: ', rf_score\n",
        "print 'Mean square error of rf: ', MSE_rf\n",
        "print 'Root mean squared error of rf:', RMSE_rf\n",
        "# print('Coefficients: \\n', ridge_fp.coef_)"
      ],
      "execution_count": 0,
      "outputs": [
        {
          "output_type": "stream",
          "text": [
            "rf score:  0.50839320352\n",
            "Mean square error of rf:  130458013.467\n",
            "Root mean squared error of rf: 11421.8218103\n"
          ],
          "name": "stdout"
        }
      ]
    },
    {
      "cell_type": "markdown",
      "metadata": {
        "id": "7bbvRvdX5XyL",
        "colab_type": "text"
      },
      "source": [
        "## 4.6 Comparison of the 5 models\n",
        "Compared the max_score, mean squared error (MSE), and root mean squared error (RMSE) of 5 models. Random forest model rf returns the beset prediction accuracy."
      ]
    },
    {
      "cell_type": "code",
      "metadata": {
        "id": "8Pydg8xD5XyM",
        "colab_type": "code",
        "colab": {},
        "outputId": "cd6785a8-4cb1-4db1-c8ed-d8fadc9d9563"
      },
      "source": [
        "lst_score = [lasso_f_score, lasso_fp_score, ridge_f_score, ridge_fp_score, rf_score]\n",
        "MSE_lst =  [MSE_lasso_f, MSE_lasso_fp, MSE_ridge_f, MSE_ridge_fp, MSE_rf]\n",
        "RMSE_lst =  [RMSE_lasso_f, RMSE_lasso_fp, RMSE_ridge_f, RMSE_ridge_fp, RMSE_rf]\n",
        "model_lst = ['Lasso_linear','Lasso poly', 'Ridge linear', 'Ridge poly', 'Random forest']\n",
        "\n",
        "plt.figure(1)\n",
        "plt.plot(model_lst, lst_score, 'ro')\n",
        "plt.legend(loc = 9)\n",
        "plt.legend(['r-squre / score'])\n",
        "plt.xlabel('model names',fontsize =16)\n",
        "plt.ylabel('score / r square', fontsize =16)\n",
        "plt.grid(True)\n",
        "plt.show()\n",
        "\n",
        "plt.figure(2)\n",
        "plt.plot(model_lst, MSE_lst, 'g^')\n",
        "plt.legend(loc = 9)\n",
        "plt.legend(['mean square error (MSE)'])\n",
        "plt.xlabel('model names', fontsize =16)\n",
        "plt.ylabel('mean square error', fontsize =16)\n",
        "plt.grid(True)\n",
        "plt.show()\n",
        "\n",
        "plt.figure(3)\n",
        "plt.plot(model_lst, RMSE_lst, 'bs')\n",
        "plt.legend(loc = 9)\n",
        "plt.legend(['root mean square error (RMSE)'])\n",
        "plt.xlabel('model names', fontsize =16)\n",
        "plt.ylabel('root mean square error', fontsize =16)\n",
        "plt.grid(True)\n",
        "plt.show()"
      ],
      "execution_count": 0,
      "outputs": [
        {
          "output_type": "display_data",
          "data": {
            "image/png": "[encoded data removed]",
            "text/plain": [
              "<matplotlib.figure.Figure at 0x1a1d5b4810>"
            ]
          },
          "metadata": {
            "tags": []
          }
        },
        {
          "output_type": "display_data",
          "data": {
            "image/png": "[encoded data removed]",
            "text/plain": [
              "<matplotlib.figure.Figure at 0x1a206bc910>"
            ]
          },
          "metadata": {
            "tags": []
          }
        },
        {
          "output_type": "display_data",
          "data": {
            "image/png": "[encoded data removed]",
            "text/plain": [
              "<matplotlib.figure.Figure at 0x1a1e441390>"
            ]
          },
          "metadata": {
            "tags": []
          }
        }
      ]
    },
    {
      "cell_type": "markdown",
      "metadata": {
        "id": "DdYSwJHt5XyR",
        "colab_type": "text"
      },
      "source": [
        "\n",
        "# 5. Feature importance\n",
        "Random forest(RF) shows the best prediction accuracy. Therefore, the feature importance will be extracted from the RF model. "
      ]
    },
    {
      "cell_type": "code",
      "metadata": {
        "id": "4ckM17rq5XyS",
        "colab_type": "code",
        "colab": {},
        "outputId": "f0a9b473-d32f-4d1d-8a8c-d4fa5cc9b7e9"
      },
      "source": [
        "importances = rf.feature_importances_\n",
        "std = np.std([tree.feature_importances_ for tree in rf.estimators_], axis=0)\n",
        "indices = np.argsort(importances)[::-1]\n",
        "feature_name = model_test_x.columns.get_values()\n",
        "\n",
        "# Print the feature ranking\n",
        "print(\"Feature importance ranking:\")\n",
        "\n",
        "for f in range(model_test_x.shape[1]):\n",
        "    print(\"%d. feature %d %s (%f)\" % (f + 1, indices[f],  feature_name[f], importances[indices[f]]))\n",
        "    \n",
        "plt.figure(1)\n",
        "plt.bar(feature_name[:11], importances[indices[:11]])\n",
        "plt.xticks(rotation=90)\n",
        "plt.show()"
      ],
      "execution_count": 0,
      "outputs": [
        {
          "output_type": "stream",
          "text": [
            "Feature importance ranking:\n",
            "1. feature 2 weighted_categorical_position (0.153114)\n",
            "2. feature 0 weighted_horizontal_poition (0.125979)\n",
            "3. feature 1 imdb_votes (0.122217)\n",
            "4. feature 7 budget (0.058824)\n",
            "5. feature 8 boxoffice (0.056730)\n",
            "6. feature 3 imdb_rating (0.055224)\n",
            "7. feature 4 duration_in_mins (0.054734)\n",
            "8. feature 6 metacritic_score (0.042676)\n",
            "9. feature 9 star_category (0.039899)\n",
            "10. feature 5 lionsgate (0.032440)\n",
            "11. feature 11 mgm (0.027291)\n",
            "12. feature 53 other (0.025557)\n",
            "13. feature 10 paramount (0.020731)\n",
            "14. feature 42 G (0.017618)\n",
            "15. feature 28 NC-17 (0.012257)\n",
            "16. feature 18 NotRated (0.011334)\n",
            "17. feature 27 PG (0.010325)\n",
            "18. feature 49 PG-13 (0.007859)\n",
            "19. feature 52 R (0.007672)\n",
            "20. feature 23 BAFTA (0.007548)\n",
            "21. feature 30 Golden Globe (0.006129)\n",
            "22. feature 15 Oscar (0.005517)\n",
            "23. feature 29 no award (0.005429)\n",
            "24. feature 51 other award (0.005089)\n",
            "25. feature 17 Action (0.005000)\n",
            "26. feature 50 Adventure (0.004992)\n",
            "27. feature 24 Animation (0.004810)\n",
            "28. feature 20 Comedy (0.004593)\n",
            "29. feature 25 Crime (0.004481)\n",
            "30. feature 22 Documentary (0.004423)\n",
            "31. feature 44 Drama (0.004416)\n",
            "32. feature 47 Fantasy (0.004400)\n",
            "33. feature 35 Foreign/International (0.004393)\n",
            "34. feature 48 Horror (0.004375)\n",
            "35. feature 33 Independent (0.003766)\n",
            "36. feature 39 Kids & Family (0.003637)\n",
            "37. feature 43 Music (0.003517)\n",
            "38. feature 21 Musicals (0.003489)\n",
            "39. feature 38 Mystery (0.003154)\n",
            "40. feature 12 Romance (0.002994)\n",
            "41. feature 54 Sci-Fi (0.002889)\n",
            "42. feature 16 Sport (0.002814)\n",
            "43. feature 26 Thriller (0.002650)\n",
            "44. feature 36 War (0.002333)\n",
            "45. feature 40 Western (0.002305)\n",
            "46. feature 46 Misc_gen (0.002291)\n",
            "47. feature 41 1916-1974 (0.001740)\n",
            "48. feature 31 1974-1991 (0.001313)\n",
            "49. feature 55 1991-2001 (0.000945)\n",
            "50. feature 37 2001-2006 (0.000642)\n",
            "51. feature 34 2006-2008 (0.000609)\n",
            "52. feature 14 2008-2010 (0.000422)\n",
            "53. feature 13 2010-2012 (0.000219)\n",
            "54. feature 32 2012-2013 (0.000096)\n",
            "55. feature 19 2013-2014 (0.000078)\n",
            "56. feature 45 2014-2017 (0.000020)\n"
          ],
          "name": "stdout"
        },
        {
          "output_type": "display_data",
          "data": {
            "image/png": "[encoded data removed]",
            "text/plain": [
              "<matplotlib.figure.Figure at 0x1a205e81d0>"
            ]
          },
          "metadata": {
            "tags": []
          }
        }
      ]
    }
  ]
}